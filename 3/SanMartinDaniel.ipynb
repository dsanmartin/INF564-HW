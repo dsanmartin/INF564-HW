{
 "cells": [
  {
   "cell_type": "code",
   "execution_count": 21,
   "metadata": {},
   "outputs": [],
   "source": [
    "import numpy as np\n",
    "import pandas as pd\n",
    "import matplotlib.pyplot as plt\n",
    "from sklearn.metrics.pairwise import cosine_similarity\n",
    "import warnings\n",
    "warnings.filterwarnings(\"ignore\")"
   ]
  },
  {
   "cell_type": "code",
   "execution_count": 22,
   "metadata": {},
   "outputs": [],
   "source": [
    "DATA_DIR = 'data/dataset.csv'"
   ]
  },
  {
   "cell_type": "code",
   "execution_count": 23,
   "metadata": {},
   "outputs": [],
   "source": [
    "def boxplot(data, times=True):\n",
    "    N = len(data)\n",
    "    fig, axes = plt.subplots(1, N, figsize=(15, 5), sharey=True)\n",
    "    for k in range(N):\n",
    "        if times: axes[k].boxplot(data[k].all_runs)\n",
    "        else: axes[k].boxplot(data[k])\n",
    "        axes[k].set_title(\"K = \" + str((k+1)*10))\n",
    "        axes[k].grid(True)\n",
    "    plt.tight_layout()\n",
    "    plt.show()        "
   ]
  },
  {
   "cell_type": "code",
   "execution_count": 24,
   "metadata": {},
   "outputs": [],
   "source": [
    "def scatter(data):\n",
    "    plt.scatter(data.source, data.target, s=data.rating*100, c=data.rating, alpha=.5)\n",
    "    plt.colorbar(ticks=[-10, 0, 10])\n",
    "    plt.grid(True)\n",
    "    plt.show()"
   ]
  },
  {
   "cell_type": "code",
   "execution_count": 25,
   "metadata": {},
   "outputs": [],
   "source": [
    "def histogram(data):\n",
    "    data_u = np.triu(data, k=1) # Get upper triadiagonal without diagonal\n",
    "    data_u = data_u.flatten() # Vectorize matrix\n",
    "    data_u = data_u[data_u>0] # Remove 0\n",
    "    plt.hist(data_u, bins=20)\n",
    "    plt.grid(True)\n",
    "    plt.show()"
   ]
  },
  {
   "cell_type": "markdown",
   "metadata": {},
   "source": [
    "# k-means clustering <small>[1]</small>\n",
    "\n",
    "Dado un conjunto de datos $(x_1, x_2, ..., x_n)$, $x_i\\in\\mathbb{R}^d, \\, i=1, ..., n$, $k$-means busca particionar los $n$ datos en $k$ ($\\leq n$) conjuntos $S = {S_1, S_2, ..., S_k}$ minimizando el la varianza entre *clusters*. Formalmente, el objetivo es encontrar\n",
    "\\begin{equation}\n",
    "{\\underset {\\mathbf {S} }{\\operatorname {arg\\,min} }}\\sum _{i=1}^{k}\\sum _{\\mathbf {x} \\in S_{i}}\\left\\|\\mathbf {x} -{\\boldsymbol {\\mu }}_{i}\\right\\|^{2}={\\underset {\\mathbf {S} }{\\operatorname {arg\\,min} }}\\sum _{i=1}^{k}|S_{i}|\\operatorname {Var} S_{i}\n",
    "\\end{equation}\n",
    "\n",
    "donde $\\mu_i$ es la media de los puntos en $S_i$. Esto es equivalente a minimizar la desviación al cuadrado entre pares de puntos del mismo *cluster*:\n",
    "\n",
    "\\begin{equation}\n",
    "{\\underset {\\mathbf {S} }{\\operatorname {arg\\,min} }}\\sum _{i=1}^{k}\\,{\\frac {1}{2|S_{i}|}}\\,\\sum _{\\mathbf {x} ,\\mathbf {y} \\in S_{i}}\\left\\|\\mathbf {x} -\\mathbf {y} \\right\\|^{2}\n",
    "\\end{equation}\n",
    "\n",
    "## Algoritmo\n",
    "\n",
    "Dado un conjunto inicial de $k$ medias $m_1^{(1)}, ..., m_k^{(1)}$, el algoritmo funciona alternando los siguientes dos pasos:\n",
    "\n",
    "1. **Asignación**: Asignar cada dato al *cluster* cuya media tenga la menor distancia Euclidiana al cuadrado, esto es intuitivamente la media \"más cercana\".\n",
    "\n",
    "\\begin{equation}\n",
    "S_{i}^{(t)}={\\big \\{}x_{p}:{\\big \\|}x_{p}-m_{i}^{(t)}{\\big \\|}^{2}\\leq {\\big \\|}x_{p}-m_{j}^{(t)}{\\big \\|}^{2}\\ \\forall j,1\\leq j\\leq k{\\big \\}}\n",
    "\\end{equation}\n",
    "\n",
    "donde cada $x_{p}$ es asignado exactamente a un $S^{(t)}$, aun si este pudiera ser asignado a dos o más conjuntos.\n",
    "\n",
    "2. **Actualización**: Calcular la nueva media (centroide) de los datos en los nuevos *clusters*.\n",
    "\n",
    "\\begin{equation}\n",
    "    m_{i}^{(t+1)}={\\frac {1}{\\left|S_{i}^{(t)}\\right|}}\\sum _{x_{j}\\in S_{i}^{(t)}}x_{j}\n",
    "\\end{equation}"
   ]
  },
  {
   "cell_type": "code",
   "execution_count": 26,
   "metadata": {},
   "outputs": [],
   "source": [
    "data = pd.read_csv(DATA_DIR, header=None, names=['source', 'target', 'rating'])"
   ]
  },
  {
   "cell_type": "code",
   "execution_count": 27,
   "metadata": {},
   "outputs": [
    {
     "data": {
      "text/html": [
       "<div>\n",
       "<style scoped>\n",
       "    .dataframe tbody tr th:only-of-type {\n",
       "        vertical-align: middle;\n",
       "    }\n",
       "\n",
       "    .dataframe tbody tr th {\n",
       "        vertical-align: top;\n",
       "    }\n",
       "\n",
       "    .dataframe thead th {\n",
       "        text-align: right;\n",
       "    }\n",
       "</style>\n",
       "<table border=\"1\" class=\"dataframe\">\n",
       "  <thead>\n",
       "    <tr style=\"text-align: right;\">\n",
       "      <th></th>\n",
       "      <th>source</th>\n",
       "      <th>target</th>\n",
       "      <th>rating</th>\n",
       "    </tr>\n",
       "  </thead>\n",
       "  <tbody>\n",
       "    <tr>\n",
       "      <th>count</th>\n",
       "      <td>24186.000000</td>\n",
       "      <td>24186.000000</td>\n",
       "      <td>24186.000000</td>\n",
       "    </tr>\n",
       "    <tr>\n",
       "      <th>mean</th>\n",
       "      <td>864.029314</td>\n",
       "      <td>1051.093815</td>\n",
       "      <td>1.463946</td>\n",
       "    </tr>\n",
       "    <tr>\n",
       "      <th>std</th>\n",
       "      <td>1592.085638</td>\n",
       "      <td>1871.765504</td>\n",
       "      <td>2.903656</td>\n",
       "    </tr>\n",
       "    <tr>\n",
       "      <th>min</th>\n",
       "      <td>1.000000</td>\n",
       "      <td>1.000000</td>\n",
       "      <td>-10.000000</td>\n",
       "    </tr>\n",
       "    <tr>\n",
       "      <th>25%</th>\n",
       "      <td>58.000000</td>\n",
       "      <td>66.000000</td>\n",
       "      <td>1.000000</td>\n",
       "    </tr>\n",
       "    <tr>\n",
       "      <th>50%</th>\n",
       "      <td>238.000000</td>\n",
       "      <td>279.000000</td>\n",
       "      <td>1.000000</td>\n",
       "    </tr>\n",
       "    <tr>\n",
       "      <th>75%</th>\n",
       "      <td>898.000000</td>\n",
       "      <td>1068.000000</td>\n",
       "      <td>2.000000</td>\n",
       "    </tr>\n",
       "    <tr>\n",
       "      <th>max</th>\n",
       "      <td>7604.000000</td>\n",
       "      <td>7604.000000</td>\n",
       "      <td>10.000000</td>\n",
       "    </tr>\n",
       "  </tbody>\n",
       "</table>\n",
       "</div>"
      ],
      "text/plain": [
       "             source        target        rating\n",
       "count  24186.000000  24186.000000  24186.000000\n",
       "mean     864.029314   1051.093815      1.463946\n",
       "std     1592.085638   1871.765504      2.903656\n",
       "min        1.000000      1.000000    -10.000000\n",
       "25%       58.000000     66.000000      1.000000\n",
       "50%      238.000000    279.000000      1.000000\n",
       "75%      898.000000   1068.000000      2.000000\n",
       "max     7604.000000   7604.000000     10.000000"
      ]
     },
     "execution_count": 27,
     "metadata": {},
     "output_type": "execute_result"
    }
   ],
   "source": [
    "data.describe()"
   ]
  },
  {
   "cell_type": "code",
   "execution_count": 28,
   "metadata": {},
   "outputs": [],
   "source": [
    "data_12 = data[data.target > np.max(data.target) / 2]"
   ]
  },
  {
   "cell_type": "code",
   "execution_count": 29,
   "metadata": {},
   "outputs": [
    {
     "data": {
      "text/html": [
       "<div>\n",
       "<style scoped>\n",
       "    .dataframe tbody tr th:only-of-type {\n",
       "        vertical-align: middle;\n",
       "    }\n",
       "\n",
       "    .dataframe tbody tr th {\n",
       "        vertical-align: top;\n",
       "    }\n",
       "\n",
       "    .dataframe thead th {\n",
       "        text-align: right;\n",
       "    }\n",
       "</style>\n",
       "<table border=\"1\" class=\"dataframe\">\n",
       "  <thead>\n",
       "    <tr style=\"text-align: right;\">\n",
       "      <th></th>\n",
       "      <th>source</th>\n",
       "      <th>target</th>\n",
       "      <th>rating</th>\n",
       "    </tr>\n",
       "  </thead>\n",
       "  <tbody>\n",
       "    <tr>\n",
       "      <th>count</th>\n",
       "      <td>1632.000000</td>\n",
       "      <td>1632.000000</td>\n",
       "      <td>1632.000000</td>\n",
       "    </tr>\n",
       "    <tr>\n",
       "      <th>mean</th>\n",
       "      <td>1129.602941</td>\n",
       "      <td>7390.294118</td>\n",
       "      <td>-3.141544</td>\n",
       "    </tr>\n",
       "    <tr>\n",
       "      <th>std</th>\n",
       "      <td>2136.001796</td>\n",
       "      <td>527.135146</td>\n",
       "      <td>5.879972</td>\n",
       "    </tr>\n",
       "    <tr>\n",
       "      <th>min</th>\n",
       "      <td>1.000000</td>\n",
       "      <td>4017.000000</td>\n",
       "      <td>-10.000000</td>\n",
       "    </tr>\n",
       "    <tr>\n",
       "      <th>25%</th>\n",
       "      <td>43.000000</td>\n",
       "      <td>7419.000000</td>\n",
       "      <td>-10.000000</td>\n",
       "    </tr>\n",
       "    <tr>\n",
       "      <th>50%</th>\n",
       "      <td>191.000000</td>\n",
       "      <td>7550.500000</td>\n",
       "      <td>-1.000000</td>\n",
       "    </tr>\n",
       "    <tr>\n",
       "      <th>75%</th>\n",
       "      <td>876.500000</td>\n",
       "      <td>7588.000000</td>\n",
       "      <td>1.000000</td>\n",
       "    </tr>\n",
       "    <tr>\n",
       "      <th>max</th>\n",
       "      <td>7604.000000</td>\n",
       "      <td>7604.000000</td>\n",
       "      <td>10.000000</td>\n",
       "    </tr>\n",
       "  </tbody>\n",
       "</table>\n",
       "</div>"
      ],
      "text/plain": [
       "            source       target       rating\n",
       "count  1632.000000  1632.000000  1632.000000\n",
       "mean   1129.602941  7390.294118    -3.141544\n",
       "std    2136.001796   527.135146     5.879972\n",
       "min       1.000000  4017.000000   -10.000000\n",
       "25%      43.000000  7419.000000   -10.000000\n",
       "50%     191.000000  7550.500000    -1.000000\n",
       "75%     876.500000  7588.000000     1.000000\n",
       "max    7604.000000  7604.000000    10.000000"
      ]
     },
     "execution_count": 29,
     "metadata": {},
     "output_type": "execute_result"
    }
   ],
   "source": [
    "data_12.describe()"
   ]
  },
  {
   "cell_type": "code",
   "execution_count": 30,
   "metadata": {},
   "outputs": [],
   "source": [
    "sim = cosine_similarity(data_12)"
   ]
  },
  {
   "cell_type": "code",
   "execution_count": 31,
   "metadata": {},
   "outputs": [
    {
     "data": {
      "image/png": "[encoded data removed]",
      "text/plain": [
       "<Figure size 432x288 with 2 Axes>"
      ]
     },
     "metadata": {
      "needs_background": "light"
     },
     "output_type": "display_data"
    }
   ],
   "source": [
    "scatter(data_12)"
   ]
  },
  {
   "cell_type": "code",
   "execution_count": 32,
   "metadata": {},
   "outputs": [
    {
     "data": {
      "image/png": "[encoded data removed]",
      "text/plain": [
       "<Figure size 432x288 with 1 Axes>"
      ]
     },
     "metadata": {
      "needs_background": "light"
     },
     "output_type": "display_data"
    }
   ],
   "source": [
    "histogram(sim)"
   ]
  },
  {
   "cell_type": "markdown",
   "metadata": {},
   "source": [
    "Dado que la mayoría de puntos analizados se encuentran cercanos al valor $1$, podemos suponer que se encuentran relativamente cerca o son parecidos por lo tanto se escoge un valor de $convDist=0.1$. Dicho de otra forma, el algoritmo debería converger relativamente rápido ya que los puntos se encuentran más o menos agrupados."
   ]
  },
  {
   "cell_type": "code",
   "execution_count": 33,
   "metadata": {},
   "outputs": [],
   "source": [
    "K = list(range(10, 51, 10))\n",
    "times = list()"
   ]
  },
  {
   "cell_type": "code",
   "execution_count": 34,
   "metadata": {
    "scrolled": false
   },
   "outputs": [
    {
     "name": "stdout",
     "output_type": "stream",
     "text": [
      "Iterations: 34\n",
      "Iterations: 31\n",
      "Iterations: 57\n",
      "Iterations: 49\n",
      "Iterations: 43\n",
      "Iterations: 99\n",
      "Iterations: 105\n",
      "Iterations: 108\n",
      "Iterations: 108\n",
      "Iterations: 89\n",
      "Iterations: 74\n",
      "Iterations: 143\n",
      "Iterations: 122\n",
      "Iterations: 122\n",
      "Iterations: 182\n",
      "Iterations: 160\n",
      "Iterations: 127\n",
      "Iterations: 228\n",
      "Iterations: 168\n",
      "Iterations: 131\n",
      "Iterations: 155\n",
      "Iterations: 155\n",
      "Iterations: 132\n",
      "Iterations: 188\n",
      "Iterations: 158\n"
     ]
    }
   ],
   "source": [
    "for k in K:\n",
    "    print(\"k:\", k)\n",
    "    time = %timeit -r 5 -n 1 -o -q !bash run.sh $DATA_DIR $k .1 2>/dev/null\n",
    "    times.append(time)"
   ]
  },
  {
   "cell_type": "code",
   "execution_count": 38,
   "metadata": {},
   "outputs": [],
   "source": [
    "iterations = np.array([\n",
    "    [34, 31, 57, 49, 43],\n",
    "    [99, 105, 108, 108, 89],\n",
    "    [74, 143, 122, 122, 182],\n",
    "    [160, 127, 228, 168, 131],\n",
    "    [155, 155, 132, 188, 158]\n",
    "])"
   ]
  },
  {
   "cell_type": "markdown",
   "metadata": {},
   "source": [
    "## Boxplots"
   ]
  },
  {
   "cell_type": "code",
   "execution_count": 36,
   "metadata": {
    "scrolled": true
   },
   "outputs": [
    {
     "data": {
      "image/png": "[encoded data removed]",
      "text/plain": [
       "<Figure size 1080x360 with 5 Axes>"
      ]
     },
     "metadata": {
      "needs_background": "light"
     },
     "output_type": "display_data"
    }
   ],
   "source": [
    "boxplot(times)"
   ]
  },
  {
   "cell_type": "code",
   "execution_count": 39,
   "metadata": {},
   "outputs": [
    {
     "data": {
      "image/png": "[encoded data removed]",
      "text/plain": [
       "<Figure size 1080x360 with 5 Axes>"
      ]
     },
     "metadata": {
      "needs_background": "light"
     },
     "output_type": "display_data"
    }
   ],
   "source": [
    "boxplot(iterations, False)"
   ]
  },
  {
   "cell_type": "markdown",
   "metadata": {},
   "source": [
    "# Referencias\n",
    "\n",
    "[1] https://en.wikipedia.org/wiki/K-means_clustering"
   ]
  }
 ],
 "metadata": {
  "kernelspec": {
   "display_name": "Python 3",
   "language": "python",
   "name": "python3"
  },
  "language_info": {
   "codemirror_mode": {
    "name": "ipython",
    "version": 3
   },
   "file_extension": ".py",
   "mimetype": "text/x-python",
   "name": "python",
   "nbconvert_exporter": "python",
   "pygments_lexer": "ipython3",
   "version": "3.7.3"
  }
 },
 "nbformat": 4,
 "nbformat_minor": 2
}
