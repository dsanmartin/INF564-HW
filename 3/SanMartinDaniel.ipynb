{
 "cells": [
  {
   "cell_type": "markdown",
   "metadata": {},
   "source": [
    "# Tarea 3: Diseño Avanzado de Algoritmos\n",
    "\n",
    "## Spark: k-means\n",
    "\n",
    "### Daniel San Martín\n",
    "\n",
    "### Spark\n",
    "\n",
    "Apache Spark es un framework open-source de computación en clúster de propósito general y orientado a la velocidad. Proporciona APIs en Java, Scala, Python y R."
   ]
  },
  {
   "cell_type": "code",
   "execution_count": 1,
   "metadata": {},
   "outputs": [],
   "source": [
    "# Python version 3.7.3\n",
    "import os \n",
    "import numpy as np # Version 1.16.4\n",
    "import pandas as pd # Version 0.24.2\n",
    "import matplotlib.pyplot as plt # Version 3.1.0\n",
    "from mpl_toolkits.mplot3d import Axes3D \n",
    "from sklearn.decomposition import PCA # Version 0.21.2\n",
    "from sklearn.preprocessing import StandardScaler\n",
    "from sklearn.metrics.pairwise import cosine_similarity, cosine_distances \n",
    "import time\n",
    "import warnings\n",
    "warnings.filterwarnings(\"ignore\")"
   ]
  },
  {
   "cell_type": "code",
   "execution_count": 2,
   "metadata": {},
   "outputs": [],
   "source": [
    "DATA_DIR = 'data/dataset.csv'"
   ]
  },
  {
   "cell_type": "markdown",
   "metadata": {},
   "source": [
    "### Funciones auxiliares"
   ]
  },
  {
   "cell_type": "markdown",
   "metadata": {},
   "source": [
    "Implementación de funciones para la representacion de datos, graficar y obtener resultados."
   ]
  },
  {
   "cell_type": "code",
   "execution_count": 3,
   "metadata": {},
   "outputs": [],
   "source": [
    "# Get data as numpy array or dictionary\n",
    "def dataRepresentation(data, matrix=True): \n",
    "    M, N = np.max(data['source']), np.max(data['target'])  \n",
    "    m = np.zeros((M, N))\n",
    "    d = dict()\n",
    "    \n",
    "    # Read data and create the representation\n",
    "    for index, row in data.iterrows():\n",
    "        s, t, r = row['source'], row['target'], row['rating']\n",
    "        m[s-1, t-1] = r\n",
    "        if s not in d:\n",
    "            d[s] = np.zeros(N)\n",
    "        d[s][t-1] = r\n",
    "    \n",
    "    if matrix: # Return as numpy array\n",
    "        # Remove rows/cols with only zeros\n",
    "        m = m[~np.all(m == 0, axis=1)]\n",
    "        m = m[:,~np.all(m == 0, axis=0)]\n",
    "        return m\n",
    "    else: # Return as dictionary\n",
    "        return d"
   ]
  },
  {
   "cell_type": "code",
   "execution_count": 4,
   "metadata": {},
   "outputs": [],
   "source": [
    "# Results boxplots\n",
    "def boxplot(data, times=True):\n",
    "    N = len(data)\n",
    "    fig, axes = plt.subplots(1, N, figsize=(15, 5), sharey=True)\n",
    "    for k in range(N):\n",
    "        axes[k].boxplot(data[k])\n",
    "        axes[k].set_title(\"K = \" + str((k+1)*10))\n",
    "        axes[k].grid(True)\n",
    "    plt.tight_layout()\n",
    "    plt.show()        "
   ]
  },
  {
   "cell_type": "code",
   "execution_count": 83,
   "metadata": {},
   "outputs": [],
   "source": [
    "# Scatter for 2D projection of data using PCA (only exploratory)\n",
    "def scatter(data, means=None, lims=[[-10, 20], [-10, 80]]):\n",
    "    fig = plt.figure(figsize=(14, 4))\n",
    "    \n",
    "    # All data\n",
    "    plt.subplot(1, 2, 1)\n",
    "    plt.scatter(data[:,0], data[:,1])\n",
    "    if means is not None:\n",
    "        plt.scatter(means[:,0], means[:,1], marker=\"*\")\n",
    "    plt.grid(True)\n",
    "    plt.xlabel(\"PC 1\")\n",
    "    plt.ylabel(\"PC 2\")\n",
    "        \n",
    "    # \"Zoom\"\n",
    "    plt.subplot(1, 2, 2)\n",
    "    plt.scatter(data[:,0], data[:,1])\n",
    "    if means is not None:\n",
    "        plt.scatter(means[:,0], means[:,1], marker=\"*\")\n",
    "    plt.xlim(lims[0])\n",
    "    plt.ylim(lims[1])\n",
    "    \n",
    "    plt.grid(True)\n",
    "    plt.xlabel(\"PC 1\")\n",
    "    plt.ylabel(\"PC 2\")\n",
    "    plt.show()"
   ]
  },
  {
   "cell_type": "code",
   "execution_count": 6,
   "metadata": {},
   "outputs": [],
   "source": [
    "def histograms(sim, dis):\n",
    "    # Remove duplicated data for symmetry of similarity/distance matrix\n",
    "    data_sim, data_dis = [], []\n",
    "    M, N = sim.shape\n",
    "    for i in range(M):\n",
    "        for j in range(i+1, N):\n",
    "            data_sim.append(sim[i, j])\n",
    "            data_dis.append(dis[i, j])\n",
    "    data_sim = np.array(data_sim)\n",
    "    data_dis = np.array(data_dis)\n",
    "    \n",
    "    # Plots\n",
    "    fig = plt.figure(figsize=(14, 4))\n",
    "    \n",
    "    # Similarity\n",
    "    plt.subplot(1, 2, 1)\n",
    "    plt.hist(data_sim, bins=20)\n",
    "    plt.grid(True)\n",
    "    plt.title(\"Cosine Similarity\")\n",
    "    \n",
    "    # Distance\n",
    "    plt.subplot(1, 2, 2)\n",
    "    plt.hist(data_dis, bins=20)\n",
    "    plt.grid(True)\n",
    "    plt.title(\"Cosine Distance\")\n",
    "    plt.show()"
   ]
  },
  {
   "cell_type": "code",
   "execution_count": 7,
   "metadata": {},
   "outputs": [],
   "source": [
    "# Get results filenames\n",
    "def getFiles(path, K):\n",
    "    names = list()\n",
    "    for k in K:\n",
    "        path_k = path + str(k) + \"/\"\n",
    "        for _, _, files in os.walk(path_k):\n",
    "            for file in files:\n",
    "                if '.txt' in file:\n",
    "                    names.append(path_k + file)\n",
    "    return names"
   ]
  },
  {
   "cell_type": "code",
   "execution_count": 8,
   "metadata": {},
   "outputs": [],
   "source": [
    "# Get data from results files\n",
    "def getResults(path, K):\n",
    "    file_names = getFiles(path, K)\n",
    "    k_10, k_20, k_30, k_40, k_50 = [], [], [], [], []\n",
    "    for name in file_names:\n",
    "        if '/10/' in name: result = np.genfromtxt(name, delimiter=','); k_10.append(result)\n",
    "        elif '/20/' in name: result = np.genfromtxt(name, delimiter=','); k_20.append(result)\n",
    "        elif '/30/' in name: result = np.genfromtxt(name, delimiter=','); k_30.append(result)\n",
    "        elif '/40/' in name: result = np.genfromtxt(name, delimiter=','); k_40.append(result)\n",
    "        elif '/50/' in name: result = np.genfromtxt(name, delimiter=','); k_50.append(result)\n",
    "    return k_10, k_20, k_30, k_40, k_50  "
   ]
  },
  {
   "cell_type": "markdown",
   "metadata": {},
   "source": [
    "### Formato de entrada\n",
    "\n",
    "Se entrega un dataset en csv, donde cada fila contiene la siguiente información: ID_SOURCE, ID_TARGET, RATING\n",
    "donde:\n",
    "* ID_SOURCE: ID de usuario origen\n",
    "* ID_TARGET: ID del usuario destino\n",
    "* RATING: calificación del trust de ID_SOURCE sobre ID_TARGET, en $\\{-10,10\\}$"
   ]
  },
  {
   "cell_type": "markdown",
   "metadata": {},
   "source": [
    "#### Descripción básica\n",
    "\n",
    "Estadísticas generales de los datos."
   ]
  },
  {
   "cell_type": "code",
   "execution_count": 9,
   "metadata": {},
   "outputs": [],
   "source": [
    "data = pd.read_csv(DATA_DIR, header=None, names=['source', 'target', 'rating'])"
   ]
  },
  {
   "cell_type": "code",
   "execution_count": 10,
   "metadata": {},
   "outputs": [
    {
     "data": {
      "text/html": [
       "<div>\n",
       "<style scoped>\n",
       "    .dataframe tbody tr th:only-of-type {\n",
       "        vertical-align: middle;\n",
       "    }\n",
       "\n",
       "    .dataframe tbody tr th {\n",
       "        vertical-align: top;\n",
       "    }\n",
       "\n",
       "    .dataframe thead th {\n",
       "        text-align: right;\n",
       "    }\n",
       "</style>\n",
       "<table border=\"1\" class=\"dataframe\">\n",
       "  <thead>\n",
       "    <tr style=\"text-align: right;\">\n",
       "      <th></th>\n",
       "      <th>source</th>\n",
       "      <th>target</th>\n",
       "      <th>rating</th>\n",
       "    </tr>\n",
       "  </thead>\n",
       "  <tbody>\n",
       "    <tr>\n",
       "      <th>count</th>\n",
       "      <td>24186.000000</td>\n",
       "      <td>24186.000000</td>\n",
       "      <td>24186.000000</td>\n",
       "    </tr>\n",
       "    <tr>\n",
       "      <th>mean</th>\n",
       "      <td>864.029314</td>\n",
       "      <td>1051.093815</td>\n",
       "      <td>1.463946</td>\n",
       "    </tr>\n",
       "    <tr>\n",
       "      <th>std</th>\n",
       "      <td>1592.085638</td>\n",
       "      <td>1871.765504</td>\n",
       "      <td>2.903656</td>\n",
       "    </tr>\n",
       "    <tr>\n",
       "      <th>min</th>\n",
       "      <td>1.000000</td>\n",
       "      <td>1.000000</td>\n",
       "      <td>-10.000000</td>\n",
       "    </tr>\n",
       "    <tr>\n",
       "      <th>25%</th>\n",
       "      <td>58.000000</td>\n",
       "      <td>66.000000</td>\n",
       "      <td>1.000000</td>\n",
       "    </tr>\n",
       "    <tr>\n",
       "      <th>50%</th>\n",
       "      <td>238.000000</td>\n",
       "      <td>279.000000</td>\n",
       "      <td>1.000000</td>\n",
       "    </tr>\n",
       "    <tr>\n",
       "      <th>75%</th>\n",
       "      <td>898.000000</td>\n",
       "      <td>1068.000000</td>\n",
       "      <td>2.000000</td>\n",
       "    </tr>\n",
       "    <tr>\n",
       "      <th>max</th>\n",
       "      <td>7604.000000</td>\n",
       "      <td>7604.000000</td>\n",
       "      <td>10.000000</td>\n",
       "    </tr>\n",
       "  </tbody>\n",
       "</table>\n",
       "</div>"
      ],
      "text/plain": [
       "             source        target        rating\n",
       "count  24186.000000  24186.000000  24186.000000\n",
       "mean     864.029314   1051.093815      1.463946\n",
       "std     1592.085638   1871.765504      2.903656\n",
       "min        1.000000      1.000000    -10.000000\n",
       "25%       58.000000     66.000000      1.000000\n",
       "50%      238.000000    279.000000      1.000000\n",
       "75%      898.000000   1068.000000      2.000000\n",
       "max     7604.000000   7604.000000     10.000000"
      ]
     },
     "execution_count": 10,
     "metadata": {},
     "output_type": "execute_result"
    }
   ],
   "source": [
    "data.describe()"
   ]
  },
  {
   "cell_type": "markdown",
   "metadata": {},
   "source": [
    "### Algoritmo k–means\n",
    "\n",
    "- Defina la función parse_vector para que lea el dataset y cree una RDD o DataFrame en Spark de vectores de usuarios. La representación vectorial de los usuarios corresponde a vectores donde cada componente es el rating. Por ejemplo, para el vector $u$ del usuario $i$, la componente $j$ corresponde a $RATING(i,j)$. Su RDD de vectores debe tener $n-1$ slices, donde $n$ es el número de cores de su máquina. "
   ]
  },
  {
   "cell_type": "markdown",
   "metadata": {},
   "source": [
    "En el pre-procesamiento de datos se utilizó `dataRepresentation(data)` para forma convertir los datos según lo solicitado."
   ]
  },
  {
   "cell_type": "code",
   "execution_count": 11,
   "metadata": {},
   "outputs": [
    {
     "data": {
      "text/html": [
       "<div>\n",
       "<style scoped>\n",
       "    .dataframe tbody tr th:only-of-type {\n",
       "        vertical-align: middle;\n",
       "    }\n",
       "\n",
       "    .dataframe tbody tr th {\n",
       "        vertical-align: top;\n",
       "    }\n",
       "\n",
       "    .dataframe thead th {\n",
       "        text-align: right;\n",
       "    }\n",
       "</style>\n",
       "<table border=\"1\" class=\"dataframe\">\n",
       "  <thead>\n",
       "    <tr style=\"text-align: right;\">\n",
       "      <th></th>\n",
       "      <th>0</th>\n",
       "      <th>1</th>\n",
       "      <th>2</th>\n",
       "      <th>3</th>\n",
       "      <th>4</th>\n",
       "      <th>5</th>\n",
       "      <th>6</th>\n",
       "      <th>7</th>\n",
       "      <th>8</th>\n",
       "      <th>9</th>\n",
       "      <th>...</th>\n",
       "      <th>3744</th>\n",
       "      <th>3745</th>\n",
       "      <th>3746</th>\n",
       "      <th>3747</th>\n",
       "      <th>3748</th>\n",
       "      <th>3749</th>\n",
       "      <th>3750</th>\n",
       "      <th>3751</th>\n",
       "      <th>3752</th>\n",
       "      <th>3753</th>\n",
       "    </tr>\n",
       "  </thead>\n",
       "  <tbody>\n",
       "    <tr>\n",
       "      <th>count</th>\n",
       "      <td>3286.000000</td>\n",
       "      <td>3286.000000</td>\n",
       "      <td>3286.000000</td>\n",
       "      <td>3286.000000</td>\n",
       "      <td>3286.000000</td>\n",
       "      <td>3286.000000</td>\n",
       "      <td>3286.000000</td>\n",
       "      <td>3286.000000</td>\n",
       "      <td>3286.000000</td>\n",
       "      <td>3286.000000</td>\n",
       "      <td>...</td>\n",
       "      <td>3286.000000</td>\n",
       "      <td>3286.000000</td>\n",
       "      <td>3286.000000</td>\n",
       "      <td>3286.000000</td>\n",
       "      <td>3286.000000</td>\n",
       "      <td>3286.000000</td>\n",
       "      <td>3286.000000</td>\n",
       "      <td>3286.000000</td>\n",
       "      <td>3286.00000</td>\n",
       "      <td>3286.000000</td>\n",
       "    </tr>\n",
       "    <tr>\n",
       "      <th>mean</th>\n",
       "      <td>0.230676</td>\n",
       "      <td>0.223676</td>\n",
       "      <td>0.185636</td>\n",
       "      <td>0.178941</td>\n",
       "      <td>0.118685</td>\n",
       "      <td>0.118077</td>\n",
       "      <td>0.112599</td>\n",
       "      <td>0.104991</td>\n",
       "      <td>0.097687</td>\n",
       "      <td>0.087645</td>\n",
       "      <td>...</td>\n",
       "      <td>-0.019477</td>\n",
       "      <td>-0.020998</td>\n",
       "      <td>-0.027389</td>\n",
       "      <td>-0.033475</td>\n",
       "      <td>-0.033475</td>\n",
       "      <td>-0.036214</td>\n",
       "      <td>-0.036519</td>\n",
       "      <td>-0.045648</td>\n",
       "      <td>-0.06482</td>\n",
       "      <td>-0.191114</td>\n",
       "    </tr>\n",
       "    <tr>\n",
       "      <th>std</th>\n",
       "      <td>0.858505</td>\n",
       "      <td>1.169709</td>\n",
       "      <td>0.819615</td>\n",
       "      <td>0.903702</td>\n",
       "      <td>0.787597</td>\n",
       "      <td>0.739449</td>\n",
       "      <td>0.886279</td>\n",
       "      <td>0.652539</td>\n",
       "      <td>0.743852</td>\n",
       "      <td>0.523063</td>\n",
       "      <td>...</td>\n",
       "      <td>0.599531</td>\n",
       "      <td>0.462786</td>\n",
       "      <td>0.522707</td>\n",
       "      <td>0.759780</td>\n",
       "      <td>0.759780</td>\n",
       "      <td>0.811014</td>\n",
       "      <td>0.696942</td>\n",
       "      <td>0.717927</td>\n",
       "      <td>1.01813</td>\n",
       "      <td>1.446770</td>\n",
       "    </tr>\n",
       "    <tr>\n",
       "      <th>min</th>\n",
       "      <td>0.000000</td>\n",
       "      <td>0.000000</td>\n",
       "      <td>-2.000000</td>\n",
       "      <td>0.000000</td>\n",
       "      <td>-10.000000</td>\n",
       "      <td>0.000000</td>\n",
       "      <td>-10.000000</td>\n",
       "      <td>0.000000</td>\n",
       "      <td>-10.000000</td>\n",
       "      <td>-10.000000</td>\n",
       "      <td>...</td>\n",
       "      <td>-10.000000</td>\n",
       "      <td>-10.000000</td>\n",
       "      <td>-10.000000</td>\n",
       "      <td>-10.000000</td>\n",
       "      <td>-10.000000</td>\n",
       "      <td>-10.000000</td>\n",
       "      <td>-10.000000</td>\n",
       "      <td>-10.000000</td>\n",
       "      <td>-10.00000</td>\n",
       "      <td>-10.000000</td>\n",
       "    </tr>\n",
       "    <tr>\n",
       "      <th>25%</th>\n",
       "      <td>0.000000</td>\n",
       "      <td>0.000000</td>\n",
       "      <td>0.000000</td>\n",
       "      <td>0.000000</td>\n",
       "      <td>0.000000</td>\n",
       "      <td>0.000000</td>\n",
       "      <td>0.000000</td>\n",
       "      <td>0.000000</td>\n",
       "      <td>0.000000</td>\n",
       "      <td>0.000000</td>\n",
       "      <td>...</td>\n",
       "      <td>0.000000</td>\n",
       "      <td>0.000000</td>\n",
       "      <td>0.000000</td>\n",
       "      <td>0.000000</td>\n",
       "      <td>0.000000</td>\n",
       "      <td>0.000000</td>\n",
       "      <td>0.000000</td>\n",
       "      <td>0.000000</td>\n",
       "      <td>0.00000</td>\n",
       "      <td>0.000000</td>\n",
       "    </tr>\n",
       "    <tr>\n",
       "      <th>50%</th>\n",
       "      <td>0.000000</td>\n",
       "      <td>0.000000</td>\n",
       "      <td>0.000000</td>\n",
       "      <td>0.000000</td>\n",
       "      <td>0.000000</td>\n",
       "      <td>0.000000</td>\n",
       "      <td>0.000000</td>\n",
       "      <td>0.000000</td>\n",
       "      <td>0.000000</td>\n",
       "      <td>0.000000</td>\n",
       "      <td>...</td>\n",
       "      <td>0.000000</td>\n",
       "      <td>0.000000</td>\n",
       "      <td>0.000000</td>\n",
       "      <td>0.000000</td>\n",
       "      <td>0.000000</td>\n",
       "      <td>0.000000</td>\n",
       "      <td>0.000000</td>\n",
       "      <td>0.000000</td>\n",
       "      <td>0.00000</td>\n",
       "      <td>0.000000</td>\n",
       "    </tr>\n",
       "    <tr>\n",
       "      <th>75%</th>\n",
       "      <td>0.000000</td>\n",
       "      <td>0.000000</td>\n",
       "      <td>0.000000</td>\n",
       "      <td>0.000000</td>\n",
       "      <td>0.000000</td>\n",
       "      <td>0.000000</td>\n",
       "      <td>0.000000</td>\n",
       "      <td>0.000000</td>\n",
       "      <td>0.000000</td>\n",
       "      <td>0.000000</td>\n",
       "      <td>...</td>\n",
       "      <td>0.000000</td>\n",
       "      <td>0.000000</td>\n",
       "      <td>0.000000</td>\n",
       "      <td>0.000000</td>\n",
       "      <td>0.000000</td>\n",
       "      <td>0.000000</td>\n",
       "      <td>0.000000</td>\n",
       "      <td>0.000000</td>\n",
       "      <td>0.00000</td>\n",
       "      <td>0.000000</td>\n",
       "    </tr>\n",
       "    <tr>\n",
       "      <th>max</th>\n",
       "      <td>10.000000</td>\n",
       "      <td>10.000000</td>\n",
       "      <td>10.000000</td>\n",
       "      <td>10.000000</td>\n",
       "      <td>10.000000</td>\n",
       "      <td>10.000000</td>\n",
       "      <td>10.000000</td>\n",
       "      <td>10.000000</td>\n",
       "      <td>10.000000</td>\n",
       "      <td>8.000000</td>\n",
       "      <td>...</td>\n",
       "      <td>7.000000</td>\n",
       "      <td>2.000000</td>\n",
       "      <td>0.000000</td>\n",
       "      <td>10.000000</td>\n",
       "      <td>10.000000</td>\n",
       "      <td>10.000000</td>\n",
       "      <td>10.000000</td>\n",
       "      <td>10.000000</td>\n",
       "      <td>10.00000</td>\n",
       "      <td>10.000000</td>\n",
       "    </tr>\n",
       "  </tbody>\n",
       "</table>\n",
       "<p>8 rows × 3754 columns</p>\n",
       "</div>"
      ],
      "text/plain": [
       "              0            1            2            3            4     \\\n",
       "count  3286.000000  3286.000000  3286.000000  3286.000000  3286.000000   \n",
       "mean      0.230676     0.223676     0.185636     0.178941     0.118685   \n",
       "std       0.858505     1.169709     0.819615     0.903702     0.787597   \n",
       "min       0.000000     0.000000    -2.000000     0.000000   -10.000000   \n",
       "25%       0.000000     0.000000     0.000000     0.000000     0.000000   \n",
       "50%       0.000000     0.000000     0.000000     0.000000     0.000000   \n",
       "75%       0.000000     0.000000     0.000000     0.000000     0.000000   \n",
       "max      10.000000    10.000000    10.000000    10.000000    10.000000   \n",
       "\n",
       "              5            6            7            8            9     ...  \\\n",
       "count  3286.000000  3286.000000  3286.000000  3286.000000  3286.000000  ...   \n",
       "mean      0.118077     0.112599     0.104991     0.097687     0.087645  ...   \n",
       "std       0.739449     0.886279     0.652539     0.743852     0.523063  ...   \n",
       "min       0.000000   -10.000000     0.000000   -10.000000   -10.000000  ...   \n",
       "25%       0.000000     0.000000     0.000000     0.000000     0.000000  ...   \n",
       "50%       0.000000     0.000000     0.000000     0.000000     0.000000  ...   \n",
       "75%       0.000000     0.000000     0.000000     0.000000     0.000000  ...   \n",
       "max      10.000000    10.000000    10.000000    10.000000     8.000000  ...   \n",
       "\n",
       "              3744         3745         3746         3747         3748  \\\n",
       "count  3286.000000  3286.000000  3286.000000  3286.000000  3286.000000   \n",
       "mean     -0.019477    -0.020998    -0.027389    -0.033475    -0.033475   \n",
       "std       0.599531     0.462786     0.522707     0.759780     0.759780   \n",
       "min     -10.000000   -10.000000   -10.000000   -10.000000   -10.000000   \n",
       "25%       0.000000     0.000000     0.000000     0.000000     0.000000   \n",
       "50%       0.000000     0.000000     0.000000     0.000000     0.000000   \n",
       "75%       0.000000     0.000000     0.000000     0.000000     0.000000   \n",
       "max       7.000000     2.000000     0.000000    10.000000    10.000000   \n",
       "\n",
       "              3749         3750         3751        3752         3753  \n",
       "count  3286.000000  3286.000000  3286.000000  3286.00000  3286.000000  \n",
       "mean     -0.036214    -0.036519    -0.045648    -0.06482    -0.191114  \n",
       "std       0.811014     0.696942     0.717927     1.01813     1.446770  \n",
       "min     -10.000000   -10.000000   -10.000000   -10.00000   -10.000000  \n",
       "25%       0.000000     0.000000     0.000000     0.00000     0.000000  \n",
       "50%       0.000000     0.000000     0.000000     0.00000     0.000000  \n",
       "75%       0.000000     0.000000     0.000000     0.00000     0.000000  \n",
       "max      10.000000    10.000000    10.000000    10.00000    10.000000  \n",
       "\n",
       "[8 rows x 3754 columns]"
      ]
     },
     "execution_count": 11,
     "metadata": {},
     "output_type": "execute_result"
    }
   ],
   "source": [
    "#dr = dataRepresentation(data)\n",
    "#np.savetxt('data/pro.csv', dr, fmt='%d', delimiter=',')\n",
    "dr = np.genfromtxt('./data/pro.csv', delimiter=',')\n",
    "pd.DataFrame(dr).describe()"
   ]
  },
  {
   "cell_type": "markdown",
   "metadata": {},
   "source": [
    "### Para tener alguna idea..."
   ]
  },
  {
   "cell_type": "code",
   "execution_count": 12,
   "metadata": {},
   "outputs": [],
   "source": [
    "ds = StandardScaler().fit_transform(dr)\n",
    "X = np.copy(ds)\n",
    "pca = PCA(n_components=2)\n",
    "fit = pca.fit(X) "
   ]
  },
  {
   "cell_type": "code",
   "execution_count": 13,
   "metadata": {},
   "outputs": [],
   "source": [
    "dpca = pca.transform(X)"
   ]
  },
  {
   "cell_type": "code",
   "execution_count": 14,
   "metadata": {},
   "outputs": [
    {
     "data": {
      "image/png": "[encoded data removed]",
      "text/plain": [
       "<Figure size 1008x288 with 2 Axes>"
      ]
     },
     "metadata": {
      "needs_background": "light"
     },
     "output_type": "display_data"
    }
   ],
   "source": [
    "scatter(dpca)"
   ]
  },
  {
   "cell_type": "markdown",
   "metadata": {},
   "source": [
    "La función `parse_vector(filename, n)` recibe el nombre del archivo y la cantidad de cores de la máquina. Toma cada línea del archivo y aplica un *split* retornando un vector con $N_{c}$ `Doubles`, donde $N_{c}$ es el número de componentes del vector. Luego retorna el `RDD` de vectores con $n-1$ slices.\n",
    "```scala\n",
    "def parse_vector(filename: String, n: Int) = {\n",
    "    val lines = sc.textFile(filename, n - 1)\n",
    "    val data = lines.map(l => \n",
    "        Vector(l.split(',').map(_.toDouble))\n",
    "    ).cache()\n",
    "    data\n",
    "}\n",
    "```"
   ]
  },
  {
   "cell_type": "code",
   "execution_count": 15,
   "metadata": {},
   "outputs": [
    {
     "name": "stdout",
     "output_type": "stream",
     "text": [
      "hw.physicalcpu: 2\r\n",
      "hw.logicalcpu: 4\r\n"
     ]
    }
   ],
   "source": [
    "!sysctl hw.physicalcpu hw.logicalcpu"
   ]
  },
  {
   "cell_type": "markdown",
   "metadata": {},
   "source": [
    "El valor escogido como número de cores fue $4$."
   ]
  },
  {
   "cell_type": "markdown",
   "metadata": {},
   "source": [
    "- Defina la función similitud de coseno en los primeros dos cuadrantes del plano cartesiano para que pueda medir la similitud entre dos vectores cuyas componentes tienen valores en el intervalo discreto $\\{-10, 10\\}$."
   ]
  },
  {
   "cell_type": "markdown",
   "metadata": {},
   "source": [
    "### Similitud del Coseno <small>[1]</small>\n",
    "\n",
    "La similitud del Coseno calcula la similaridad como el producto punto normalizado de dos vectores $\\mathbf{x}_i$ y $\\mathbf{x}_j$:\n",
    "\n",
    "\\begin{equation}\n",
    "    Sim(\\mathbf{x}_i,\\mathbf{x}_j) = \\frac{\\mathbf{x}_i\\cdot\\mathbf{x}_j}{||\\mathbf{x}_i||\\,||\\mathbf{x}_j||}\n",
    "\\end{equation}"
   ]
  },
  {
   "cell_type": "markdown",
   "metadata": {},
   "source": [
    "La función en `Scala` recibe dos vectores $\\mathbf{x}$, $\\mathbf{y}$ y retorna $Sim(\\mathbf{x},\\mathbf{y})$\n",
    "```scala\n",
    "def cosineSimilarity(x: Vector[Double], y: Vector[Double]): Double = {\n",
    "    val denom = norm(x) * norm(y)\n",
    "    val dotProduct = x dot y\n",
    "    if (denom == 0.0) {\n",
    "      0.0\n",
    "    } else {\n",
    "      dotProduct / denom\n",
    "    }\n",
    "}\n",
    "```\n",
    "\n",
    "Para el análisis previo se implementaría en `Python`de la siguiente forma, recibiendo como parámetro la matriz de datos.\n",
    "```Python\n",
    "def cos_sim(X):\n",
    "    M, N = X.shape\n",
    "    sim = np.zeros((M, M))\n",
    "    for i in range(M):\n",
    "        for j in range(M):\n",
    "            sim[i, j] = np.dot(X[i], X[j]) / (np.linalg.norm(X[i]) * np.linalg.norm(X[j]))\n",
    "    return sim\n",
    "```\n",
    "Ahora, dado que computacionalmente es muy costoso, se utiliza la función ```cosine_similarity(X)``` que proporciona la biblioteca ```sklearn.metrics.pairwise``` y que se encuentra optimizada. "
   ]
  },
  {
   "cell_type": "markdown",
   "metadata": {},
   "source": [
    "### Distancia del Coseno\n",
    "\n",
    "Dado que queremos analizar la \"cercanía\" de los vectores de usuarios, utilizaremos la distancia del coseno definida como\n",
    "\n",
    "\\begin{equation}\n",
    "    Dist(\\mathbf{x}_i,\\mathbf{x}_j) = 1 - Sim(\\mathbf{x}_i,\\mathbf{x}_j)\n",
    "\\end{equation}\n",
    "\n",
    "Dado que el cómputo es igual de costoso que la similitud del coseno, se utilizará la función `cosine_distances(X)` de `sklearn.metrics.pairwise`. Para el caso de `Scala` esta función se encuentra implementada como `cosineDistance(x,y)` dentro de la biblioteca `breeze.linalg.functions`."
   ]
  },
  {
   "cell_type": "markdown",
   "metadata": {},
   "source": [
    "- Implemente el algoritmo k-means en Spark para que corra sobre el dataset entregado. Puede reusar el código comentado en clases. Extiéndalo para que pueda trabajar sobre los datos de esta tarea."
   ]
  },
  {
   "cell_type": "markdown",
   "metadata": {},
   "source": [
    "Primero, una breve descripción del algoritmo."
   ]
  },
  {
   "cell_type": "markdown",
   "metadata": {},
   "source": [
    "## k-means clustering <small>[2]</small>\n",
    "\n",
    "Dado un conjunto de datos $(x_1, x_2, ..., x_n)$, $x_i\\in\\mathbb{R}^d, \\, i=1, ..., n$, $k$-means busca particionar los $n$ datos en $k$ ($\\leq n$) conjuntos $S = {S_1, S_2, ..., S_k}$ minimizando el la varianza entre *clusters*. Formalmente, el objetivo es encontrar\n",
    "\\begin{equation}\n",
    "{\\underset {\\mathbf {S} }{\\operatorname {arg\\,min} }}\\sum _{i=1}^{k}\\sum _{\\mathbf {x} \\in S_{i}}\\left\\|\\mathbf {x} -{\\boldsymbol {\\mu }}_{i}\\right\\|^{2}={\\underset {\\mathbf {S} }{\\operatorname {arg\\,min} }}\\sum _{i=1}^{k}|S_{i}|\\operatorname {Var} S_{i}\n",
    "\\end{equation}\n",
    "\n",
    "donde $\\mu_i$ es la media de los puntos en $S_i$. Esto es equivalente a minimizar la desviación al cuadrado entre pares de puntos del mismo *cluster*:\n",
    "\n",
    "\\begin{equation}\n",
    "{\\underset {\\mathbf {S} }{\\operatorname {arg\\,min} }}\\sum _{i=1}^{k}\\,{\\frac {1}{2|S_{i}|}}\\,\\sum _{\\mathbf {x} ,\\mathbf {y} \\in S_{i}}\\left\\|\\mathbf {x} -\\mathbf {y} \\right\\|^{2}\n",
    "\\end{equation}\n",
    "\n",
    "Notar que para este trabajo se utiliza la *Distancia del Coseno* en vez de la desviación al cuadrado.\n",
    "\n",
    "### Algoritmo\n",
    "\n",
    "\n",
    "Dado un conjunto inicial de $k$ medias $m_1^{(1)}, ..., m_k^{(1)}$, el algoritmo funciona alternando los siguientes dos pasos:\n",
    "\n",
    "1. **Asignación**: Asignar cada dato al *cluster* cuya media tenga la menor distancia, esto es intuitivamente la media \"más cercana\".\n",
    "\n",
    "\\begin{equation}\n",
    "S_{i}^{(t)}={\\big \\{}x_{p}:Dist(x_{p},m_{i}^{(t)})\\leq Dist(x_{p},m_{j}^{(t)})\\ \\forall j,1\\leq j\\leq k{\\big \\}}\n",
    "\\end{equation}\n",
    "\n",
    "donde cada $x_{p}$ es asignado exactamente a un $S^{(t)}$, aun si este pudiera ser asignado a dos o más conjuntos.\n",
    "\n",
    "2. **Actualización**: Calcular la nueva media (centroide) de los datos en los nuevos *clusters*.\n",
    "\n",
    "\\begin{equation}\n",
    "    m_{i}^{(t+1)}={\\frac {1}{\\left|S_{i}^{(t)}\\right|}}\\sum _{x_{j}\\in S_{i}^{(t)}}x_{j}\n",
    "\\end{equation}"
   ]
  },
  {
   "cell_type": "markdown",
   "metadata": {},
   "source": [
    "### Implementación en Scala\n",
    "\n",
    "```scala\n",
    "// Conjunto inicial de k medias\n",
    "val kPoints = data.takeSample(withReplacement=false, k, System.currentTimeMillis).toArray\n",
    "var tempDist = 1.0\t\n",
    "var iter = 0\n",
    "while (tempDist > convergeDist) {\n",
    "    // Asignacion de cada dato a un respectivo cluster\n",
    "    val closest = data.map(p => (closestPoint(p, kPoints), (p, 1)))\n",
    "    val pointStats = closest.reduceByKey{ case ((p1, c1), (p2, c2)) => (p1 + p2, c1 + c2) }\n",
    "    \n",
    "    // Actualizacion de los centroides\n",
    "    val newPoints = pointStats.map{ pair =>\n",
    "\t\t(pair._1, pair._2._1 * (1.0 / pair._2._2))\n",
    "\t}.collectAsMap()\n",
    "    \n",
    "    // Revisar si hay 'convergencia' comparando los centroides de iter-1 con iter\n",
    "    tempDist = 0.0\n",
    "    for (i <- 0 until k) {\n",
    "        tempDist += cosineDistance(kPoints(i), newPoints(i))\n",
    "    }\n",
    "    for (newP <- newPoints) kPoints(newP._1) = newP._2\n",
    "    iter += 1\n",
    "}\n",
    "```"
   ]
  },
  {
   "cell_type": "markdown",
   "metadata": {},
   "source": [
    "## Experimentación.\n",
    "\n",
    "1.- Compute el histograma de similitudes entre los vectores ```Sim(ui,uj)```. Considere 20 bins para su histograma. Usando el histograma, defina un valor adecuado para convDist. Justifique su decisión."
   ]
  },
  {
   "cell_type": "code",
   "execution_count": 16,
   "metadata": {},
   "outputs": [],
   "source": [
    "sim = cosine_similarity(dr)\n",
    "dis = cosine_distances(dr)"
   ]
  },
  {
   "cell_type": "code",
   "execution_count": 17,
   "metadata": {},
   "outputs": [
    {
     "data": {
      "image/png": "[encoded data removed]",
      "text/plain": [
       "<Figure size 1008x288 with 2 Axes>"
      ]
     },
     "metadata": {
      "needs_background": "light"
     },
     "output_type": "display_data"
    }
   ],
   "source": [
    "histograms(sim, dis)"
   ]
  },
  {
   "cell_type": "markdown",
   "metadata": {},
   "source": [
    "Dado que la mayoría de puntos analizados se encuentran cercanos al valor $0$ (o $1$ si vemos el gráfico de la derecha), podemos suponer que los *rankings* de cada usuario no se parecen por lo tanto se escoge un valor de $convDist=0.001$. Dicho de otra forma, el algoritmo debería converger más o menos lento ya que los vectores tienden a ser ortogonales. Por esta razón se utiliza un valor relativamente pequeño para $convDist$ para obtener resultados en un tiempo prudente."
   ]
  },
  {
   "cell_type": "markdown",
   "metadata": {},
   "source": [
    "2.- Corra su algoritmo con los siguientes valores de $k = \\{10, 20, 30, 40, 50\\}$. Corra cada configuración 5 veces, registrando el número de iteraciones y el tiempo. Para cada valor de $k$, haga un box plot del tiempo de ejecución y otro del número de iteraciones. Comente sus resultados."
   ]
  },
  {
   "cell_type": "code",
   "execution_count": 18,
   "metadata": {},
   "outputs": [],
   "source": [
    "def experiment(k, convDist=0.001):\n",
    "    start = time.time()\n",
    "    !bash run.sh \"./data/pro.csv\" $k $convDist 2>/dev/null\n",
    "    end = time.time()\n",
    "    e_t = end - start\n",
    "    print(\"Elapsed time: \", e_t)\n",
    "    return e_t"
   ]
  },
  {
   "cell_type": "markdown",
   "metadata": {},
   "source": [
    "### \"Live Demo\""
   ]
  },
  {
   "cell_type": "code",
   "execution_count": 105,
   "metadata": {},
   "outputs": [
    {
     "name": "stdout",
     "output_type": "stream",
     "text": [
      "Iterations: 5\n",
      "Elapsed time:  55.13049912452698\n"
     ]
    }
   ],
   "source": [
    "ld = experiment(10, 0.1)"
   ]
  },
  {
   "cell_type": "code",
   "execution_count": 20,
   "metadata": {},
   "outputs": [],
   "source": [
    "K = list(range(10, 51, 10))\n",
    "times = np.zeros((len(K), 5))"
   ]
  },
  {
   "cell_type": "markdown",
   "metadata": {},
   "source": [
    "### $k=10$"
   ]
  },
  {
   "cell_type": "code",
   "execution_count": 21,
   "metadata": {},
   "outputs": [
    {
     "name": "stdout",
     "output_type": "stream",
     "text": [
      "Iterations: 16\n",
      "Elapsed time:  96.68977403640747\n"
     ]
    }
   ],
   "source": [
    "times[0, 0] = experiment(10)"
   ]
  },
  {
   "cell_type": "code",
   "execution_count": 22,
   "metadata": {},
   "outputs": [
    {
     "name": "stdout",
     "output_type": "stream",
     "text": [
      "Iterations: 17\n",
      "Elapsed time:  132.7415590286255\n"
     ]
    }
   ],
   "source": [
    "times[0, 1] = experiment(10)"
   ]
  },
  {
   "cell_type": "code",
   "execution_count": 23,
   "metadata": {},
   "outputs": [
    {
     "name": "stdout",
     "output_type": "stream",
     "text": [
      "Iterations: 10\n",
      "Elapsed time:  81.51960802078247\n"
     ]
    }
   ],
   "source": [
    "times[0, 2] = experiment(10)"
   ]
  },
  {
   "cell_type": "code",
   "execution_count": 24,
   "metadata": {},
   "outputs": [
    {
     "name": "stdout",
     "output_type": "stream",
     "text": [
      "Iterations: 31\n",
      "Elapsed time:  168.8739368915558\n"
     ]
    }
   ],
   "source": [
    "times[0, 3] = experiment(10)"
   ]
  },
  {
   "cell_type": "code",
   "execution_count": 25,
   "metadata": {},
   "outputs": [
    {
     "name": "stdout",
     "output_type": "stream",
     "text": [
      "Iterations: 24\n",
      "Elapsed time:  185.396479845047\n"
     ]
    }
   ],
   "source": [
    "times[0, 4] = experiment(10)"
   ]
  },
  {
   "cell_type": "markdown",
   "metadata": {},
   "source": [
    "### $k=20$"
   ]
  },
  {
   "cell_type": "code",
   "execution_count": 26,
   "metadata": {},
   "outputs": [
    {
     "name": "stdout",
     "output_type": "stream",
     "text": [
      "Iterations: 15\n",
      "Elapsed time:  111.96453619003296\n"
     ]
    }
   ],
   "source": [
    "times[1, 0] = experiment(20)"
   ]
  },
  {
   "cell_type": "code",
   "execution_count": 27,
   "metadata": {},
   "outputs": [
    {
     "name": "stdout",
     "output_type": "stream",
     "text": [
      "Iterations: 15\n",
      "Elapsed time:  160.4166340827942\n"
     ]
    }
   ],
   "source": [
    "times[1, 1] = experiment(20)"
   ]
  },
  {
   "cell_type": "code",
   "execution_count": 28,
   "metadata": {},
   "outputs": [
    {
     "name": "stdout",
     "output_type": "stream",
     "text": [
      "Iterations: 15\n",
      "Elapsed time:  221.09233283996582\n"
     ]
    }
   ],
   "source": [
    "times[1, 2] = experiment(20)"
   ]
  },
  {
   "cell_type": "code",
   "execution_count": 29,
   "metadata": {},
   "outputs": [
    {
     "name": "stdout",
     "output_type": "stream",
     "text": [
      "Iterations: 18\n",
      "Elapsed time:  203.48249697685242\n"
     ]
    }
   ],
   "source": [
    "times[1, 3] = experiment(20)"
   ]
  },
  {
   "cell_type": "code",
   "execution_count": 30,
   "metadata": {},
   "outputs": [
    {
     "name": "stdout",
     "output_type": "stream",
     "text": [
      "Iterations: 11\n",
      "Elapsed time:  164.61798572540283\n"
     ]
    }
   ],
   "source": [
    "times[1, 4] = experiment(20)"
   ]
  },
  {
   "cell_type": "markdown",
   "metadata": {},
   "source": [
    "### $k=30$"
   ]
  },
  {
   "cell_type": "code",
   "execution_count": 31,
   "metadata": {},
   "outputs": [
    {
     "name": "stdout",
     "output_type": "stream",
     "text": [
      "Iterations: 18\n",
      "Elapsed time:  274.56231904029846\n"
     ]
    }
   ],
   "source": [
    "times[2, 0] = experiment(30)"
   ]
  },
  {
   "cell_type": "code",
   "execution_count": 32,
   "metadata": {},
   "outputs": [
    {
     "name": "stdout",
     "output_type": "stream",
     "text": [
      "Iterations: 12\n",
      "Elapsed time:  187.47768115997314\n"
     ]
    }
   ],
   "source": [
    "times[2, 1] = experiment(30)"
   ]
  },
  {
   "cell_type": "code",
   "execution_count": 33,
   "metadata": {},
   "outputs": [
    {
     "name": "stdout",
     "output_type": "stream",
     "text": [
      "Iterations: 11\n",
      "Elapsed time:  204.5162308216095\n"
     ]
    }
   ],
   "source": [
    "times[2, 2] = experiment(30)"
   ]
  },
  {
   "cell_type": "code",
   "execution_count": 35,
   "metadata": {},
   "outputs": [
    {
     "name": "stdout",
     "output_type": "stream",
     "text": [
      "Iterations: 9\n",
      "Elapsed time:  201.44304585456848\n"
     ]
    }
   ],
   "source": [
    "times[2, 3] = experiment(30)"
   ]
  },
  {
   "cell_type": "code",
   "execution_count": 36,
   "metadata": {},
   "outputs": [
    {
     "name": "stdout",
     "output_type": "stream",
     "text": [
      "Iterations: 11\n",
      "Elapsed time:  189.88382387161255\n"
     ]
    }
   ],
   "source": [
    "times[2, 4] = experiment(30)"
   ]
  },
  {
   "cell_type": "markdown",
   "metadata": {},
   "source": [
    "### $k=40$"
   ]
  },
  {
   "cell_type": "code",
   "execution_count": 38,
   "metadata": {},
   "outputs": [
    {
     "name": "stdout",
     "output_type": "stream",
     "text": [
      "Iterations: 10\n",
      "Elapsed time:  231.36989784240723\n"
     ]
    }
   ],
   "source": [
    "times[3, 0] = experiment(40)"
   ]
  },
  {
   "cell_type": "code",
   "execution_count": 39,
   "metadata": {},
   "outputs": [
    {
     "name": "stdout",
     "output_type": "stream",
     "text": [
      "Iterations: 16\n",
      "Elapsed time:  354.4967269897461\n"
     ]
    }
   ],
   "source": [
    "times[3, 1] = experiment(40)"
   ]
  },
  {
   "cell_type": "code",
   "execution_count": 42,
   "metadata": {},
   "outputs": [
    {
     "name": "stdout",
     "output_type": "stream",
     "text": [
      "Iterations: 15\n",
      "Elapsed time:  330.2719519138336\n"
     ]
    }
   ],
   "source": [
    "times[3, 2] = experiment(40)"
   ]
  },
  {
   "cell_type": "code",
   "execution_count": 44,
   "metadata": {},
   "outputs": [
    {
     "name": "stdout",
     "output_type": "stream",
     "text": [
      "Iterations: 12\n",
      "Elapsed time:  267.59576201438904\n"
     ]
    }
   ],
   "source": [
    "times[3, 3] = experiment(40)"
   ]
  },
  {
   "cell_type": "code",
   "execution_count": 45,
   "metadata": {},
   "outputs": [
    {
     "name": "stdout",
     "output_type": "stream",
     "text": [
      "Iterations: 8\n",
      "Elapsed time:  178.10608291625977\n"
     ]
    }
   ],
   "source": [
    "times[3, 4] = experiment(40)"
   ]
  },
  {
   "cell_type": "markdown",
   "metadata": {},
   "source": [
    "### $k=50$"
   ]
  },
  {
   "cell_type": "code",
   "execution_count": 50,
   "metadata": {
    "scrolled": true
   },
   "outputs": [
    {
     "name": "stdout",
     "output_type": "stream",
     "text": [
      "Iterations: 9\n",
      "Elapsed time:  240.53037309646606\n"
     ]
    }
   ],
   "source": [
    "times[4, 0] = experiment(50)"
   ]
  },
  {
   "cell_type": "code",
   "execution_count": 56,
   "metadata": {
    "scrolled": true
   },
   "outputs": [
    {
     "name": "stdout",
     "output_type": "stream",
     "text": [
      "Iterations: 11\n",
      "Elapsed time:  301.00403881073\n"
     ]
    }
   ],
   "source": [
    "times[4, 1] = experiment(50)"
   ]
  },
  {
   "cell_type": "code",
   "execution_count": 57,
   "metadata": {},
   "outputs": [
    {
     "name": "stdout",
     "output_type": "stream",
     "text": [
      "Iterations: 13\n",
      "Elapsed time:  353.3671660423279\n"
     ]
    }
   ],
   "source": [
    "times[4, 2] = experiment(50)"
   ]
  },
  {
   "cell_type": "code",
   "execution_count": 58,
   "metadata": {},
   "outputs": [
    {
     "name": "stdout",
     "output_type": "stream",
     "text": [
      "Iterations: 12\n",
      "Elapsed time:  444.3880958557129\n"
     ]
    }
   ],
   "source": [
    "times[4, 3] = experiment(50)"
   ]
  },
  {
   "cell_type": "code",
   "execution_count": 59,
   "metadata": {},
   "outputs": [
    {
     "name": "stdout",
     "output_type": "stream",
     "text": [
      "Iterations: 11\n",
      "Elapsed time:  403.9678330421448\n"
     ]
    }
   ],
   "source": [
    "times[4, 4] = experiment(50)"
   ]
  },
  {
   "cell_type": "code",
   "execution_count": 60,
   "metadata": {},
   "outputs": [],
   "source": [
    "#np.savetxt('./data/output/times.csv', times, fmt='%f', delimiter=',')"
   ]
  },
  {
   "cell_type": "code",
   "execution_count": 61,
   "metadata": {},
   "outputs": [],
   "source": [
    "res = getResults('./data/output/', K)"
   ]
  },
  {
   "cell_type": "code",
   "execution_count": 62,
   "metadata": {},
   "outputs": [],
   "source": [
    "iterations = np.array([\n",
    "    [int(r[0,0]) for r in res[0]],\n",
    "    [int(r[0,0]) for r in res[1]],\n",
    "    [int(r[0,0]) for r in res[2]],\n",
    "    [int(r[0,0]) for r in res[3]],\n",
    "    [int(r[0,0]) for r in res[4]]\n",
    "])"
   ]
  },
  {
   "cell_type": "markdown",
   "metadata": {},
   "source": [
    "## Boxplots"
   ]
  },
  {
   "cell_type": "markdown",
   "metadata": {},
   "source": [
    "### Tiempos de ejecución"
   ]
  },
  {
   "cell_type": "code",
   "execution_count": 63,
   "metadata": {
    "scrolled": true
   },
   "outputs": [
    {
     "data": {
      "image/png": "[encoded data removed]",
      "text/plain": [
       "<Figure size 1080x360 with 5 Axes>"
      ]
     },
     "metadata": {
      "needs_background": "light"
     },
     "output_type": "display_data"
    }
   ],
   "source": [
    "boxplot(times)"
   ]
  },
  {
   "cell_type": "markdown",
   "metadata": {},
   "source": [
    "Es clara la necesidad de más tiempo de cómputo a medida que se incrementa el valor $k$. En la etapa de asignación es necesario que se recorran más conjuntos a medida que $k$ crece."
   ]
  },
  {
   "cell_type": "markdown",
   "metadata": {},
   "source": [
    "### Número de iteraciones"
   ]
  },
  {
   "cell_type": "code",
   "execution_count": 64,
   "metadata": {},
   "outputs": [
    {
     "data": {
      "image/png": "[encoded data removed]",
      "text/plain": [
       "<Figure size 1080x360 with 5 Axes>"
      ]
     },
     "metadata": {
      "needs_background": "light"
     },
     "output_type": "display_data"
    }
   ],
   "source": [
    "boxplot(iterations, False)"
   ]
  },
  {
   "cell_type": "markdown",
   "metadata": {},
   "source": [
    "En este caso notamos que el número de iteraciones no cambia mucho al variar el valor de $k$. Puede tener relación al valor $convDist$ que es fijo para todos los valores de $k$. La diferencia entre $k=10$ y $k>10$ posiblemente sea debido a que para mayor valor de $k$ es \"más simple\" asignar un punto a determinado clúster porque existen más grupos al cual asignarlos."
   ]
  },
  {
   "cell_type": "markdown",
   "metadata": {},
   "source": [
    "### Ejemplo de experimentos"
   ]
  },
  {
   "cell_type": "code",
   "execution_count": 89,
   "metadata": {},
   "outputs": [],
   "source": [
    "sc = StandardScaler().fit(dr)"
   ]
  },
  {
   "cell_type": "code",
   "execution_count": 90,
   "metadata": {},
   "outputs": [],
   "source": [
    "e_10 = pca.transform(sc.transform(res[0][0][1:]))"
   ]
  },
  {
   "cell_type": "code",
   "execution_count": 96,
   "metadata": {},
   "outputs": [
    {
     "data": {
      "image/png": "[encoded data removed]",
      "text/plain": [
       "<Figure size 1008x288 with 2 Axes>"
      ]
     },
     "metadata": {
      "needs_background": "light"
     },
     "output_type": "display_data"
    }
   ],
   "source": [
    "scatter(dpca, e_10, [[-1, 5], [-5, 10]])"
   ]
  },
  {
   "cell_type": "code",
   "execution_count": 101,
   "metadata": {},
   "outputs": [],
   "source": [
    "e_10_2 = pca.transform(sc.transform(res[0][-1][1:]))"
   ]
  },
  {
   "cell_type": "code",
   "execution_count": 103,
   "metadata": {},
   "outputs": [
    {
     "data": {
      "image/png": "[encoded data removed]",
      "text/plain": [
       "<Figure size 1008x288 with 2 Axes>"
      ]
     },
     "metadata": {
      "needs_background": "light"
     },
     "output_type": "display_data"
    }
   ],
   "source": [
    "scatter(dpca, e_10_2, [[-1, 5], [-5, 10]])"
   ]
  },
  {
   "cell_type": "code",
   "execution_count": 97,
   "metadata": {},
   "outputs": [],
   "source": [
    "e_50 = pca.transform(sc.transform(res[4][-1][1:]))"
   ]
  },
  {
   "cell_type": "code",
   "execution_count": 100,
   "metadata": {},
   "outputs": [
    {
     "data": {
      "image/png": "[encoded data removed]",
      "text/plain": [
       "<Figure size 1008x288 with 2 Axes>"
      ]
     },
     "metadata": {
      "needs_background": "light"
     },
     "output_type": "display_data"
    }
   ],
   "source": [
    "scatter(dpca, e_50)"
   ]
  },
  {
   "cell_type": "markdown",
   "metadata": {},
   "source": [
    "Al parecer el algoritmo agrupa los datos correctamente. Se puede notar la diferencia de centroides obtenidos debido a la inicialización de estos."
   ]
  },
  {
   "cell_type": "markdown",
   "metadata": {},
   "source": [
    "## Conclusiones\n",
    "\n",
    "En esta tarea implementamos el algoritmo $k$-means para la manipulación de una cantidad considerable de datos utilizando el *Framework Spark*. Se obtuvieron resultados interesantes sobre todo en los tiempos de ejecución considerando el volumen de datos con el que se trabajó.\n",
    "\n",
    "Las principal desventaja de este algoritmo es la sensibilidad a la selección de centroides iniciales, es decir, se obtienen distintos resultados según la inicialización que se utilice. Para este ejemplo se inicializó con una muestra aleatoria de los datos.\n",
    "\n",
    "El procesamiento de grandes volumenes de datos es una problemática latente en la actualidad, por lo que herramientas como *Spark* nos permiten manipularlos de una forma un poco más cómoda. Principalmente esta herramienta evita el manejo explícito de técnicas de alto rendimiento como programación paralela o distribuida.\n",
    "\n",
    "La mayor dificultad de este trabajo estuvo en la configuración de las herramientas y dependencias para el funcionamiento del *Framework*. "
   ]
  },
  {
   "cell_type": "markdown",
   "metadata": {},
   "source": [
    "## Referencias\n",
    "\n",
    "1. https://scikit-learn.org/stable/modules/generated/sklearn.metrics.pairwise.cosine_similarity.html\n",
    "2. https://en.wikipedia.org/wiki/K-means_clustering"
   ]
  }
 ],
 "metadata": {
  "kernelspec": {
   "display_name": "Python 3",
   "language": "python",
   "name": "python3"
  },
  "language_info": {
   "codemirror_mode": {
    "name": "ipython",
    "version": 3
   },
   "file_extension": ".py",
   "mimetype": "text/x-python",
   "name": "python",
   "nbconvert_exporter": "python",
   "pygments_lexer": "ipython3",
   "version": "3.7.3"
  }
 },
 "nbformat": 4,
 "nbformat_minor": 2
}
