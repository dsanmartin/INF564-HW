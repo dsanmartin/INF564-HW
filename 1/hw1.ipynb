{
 "cells": [
  {
   "cell_type": "code",
   "execution_count": 1,
   "metadata": {},
   "outputs": [],
   "source": [
    "import numpy as np\n",
    "import matplotlib.pyplot as plt\n",
    "import scipy.spatial.distance as sp_dist"
   ]
  },
  {
   "cell_type": "code",
   "execution_count": 2,
   "metadata": {},
   "outputs": [],
   "source": [
    "DIR = \"data/\""
   ]
  },
  {
   "cell_type": "code",
   "execution_count": 3,
   "metadata": {},
   "outputs": [],
   "source": [
    "# Manhattan distance\n",
    "d  = lambda p1, p2: np.linalg.norm(p1 - p2, ord=1) # Compare two points\n",
    "dv = lambda v1, v2: np.sum(np.abs(v1-v2), axis=1) #  Elementwise distance\n",
    "dM = lambda v1, v2: sp_dist.cdist(v1, v2, metric='cityblock') # Distance matrix "
   ]
  },
  {
   "cell_type": "code",
   "execution_count": 4,
   "metadata": {},
   "outputs": [],
   "source": [
    "def loadRequest(request):\n",
    "    data = []\n",
    "    file = open(request)\n",
    "    for line in file:\n",
    "        data.append(list(map(int, line.strip().replace(\"-\", \" \").split())))\n",
    "    file.close()\n",
    "    return np.array(data)"
   ]
  },
  {
   "cell_type": "code",
   "execution_count": 5,
   "metadata": {},
   "outputs": [],
   "source": [
    "def plotPositions(manana, tarde, noche):\n",
    "    fig, (ax1, ax2, ax3) = plt.subplots(ncols=3, sharey=True, figsize=(16, 5))\n",
    "    ax1.scatter(manana[:,0], manana[:,1], c='y')\n",
    "    ax2.scatter(tarde[:,0], tarde[:,1], c='r')\n",
    "    ax3.scatter(noche[:,0], noche[:,1], c='k')\n",
    "    ax1.set_title(\"Mañana\")\n",
    "    ax2.set_title(\"Tarde\")\n",
    "    ax3.set_title(\"Noche\")\n",
    "    plt.show()"
   ]
  },
  {
   "cell_type": "code",
   "execution_count": 21,
   "metadata": {},
   "outputs": [],
   "source": [
    "def plotCosts(greedy, random, harmonic, title=\"\"):\n",
    "    plt.figure(figsize=(10, 8))\n",
    "    plt.title(title)\n",
    "    plt.plot(np.arange(len(greedy)), greedy, label=\"Greedy\")\n",
    "    plt.plot(np.arange(len(random)), random, label=\"Random\")\n",
    "    plt.plot(np.arange(len(harmonic)), harmonic, label=\"Harmonic\")\n",
    "    plt.xlabel(\"Time\")\n",
    "    plt.ylabel(\"Cost\")\n",
    "    plt.legend()\n",
    "    plt.grid(True)\n",
    "    plt.show()"
   ]
  },
  {
   "cell_type": "code",
   "execution_count": 7,
   "metadata": {},
   "outputs": [],
   "source": [
    "# Load positions\n",
    "manana = np.loadtxt(DIR + 'manana.dat', dtype=int)\n",
    "tarde = np.loadtxt(DIR + 'tarde.dat', dtype=int)\n",
    "noche = np.loadtxt(DIR + 'noche.dat', dtype=int)"
   ]
  },
  {
   "cell_type": "code",
   "execution_count": 8,
   "metadata": {},
   "outputs": [],
   "source": [
    "# Load requests\n",
    "req_1 = loadRequest(DIR + 'requests_1.dat')\n",
    "req_2 = loadRequest(DIR + 'requests_2.dat')\n",
    "req_3 = loadRequest(DIR + 'requests_3.dat')"
   ]
  },
  {
   "cell_type": "code",
   "execution_count": 78,
   "metadata": {},
   "outputs": [],
   "source": [
    "def greedyFunc(cand, req):\n",
    "    dist = dM(cand, req) # Distance matrix between ubers and requests (table 1)\n",
    "    min_pos = np.argmin(dist, axis=0) # Get position of ubers with min distance to requests\n",
    "    dist = np.diag(dist[min_pos]) # Distance values \n",
    "    return dist, min_pos"
   ]
  },
  {
   "cell_type": "code",
   "execution_count": 82,
   "metadata": {},
   "outputs": [],
   "source": [
    "def randomFunc(cand, req):\n",
    "    # Get random ubers for requests\n",
    "    if len(req) > len(cand): # If there are more requests than candidates\n",
    "        rand_pos = np.random.choice(len(cand), len(cand), replace=False)\n",
    "    else:\n",
    "        rand_pos = np.random.choice(len(cand), len(req), replace=False)\n",
    "    dist = dv(cand[rand_pos], req) # Compute distance between selected ubers and requests\n",
    "    return dist, rand_pos"
   ]
  },
  {
   "cell_type": "code",
   "execution_count": 86,
   "metadata": {},
   "outputs": [],
   "source": [
    "def harmonicFunc(cand, req):\n",
    "    dist = dM(req, cand) # Distance matrix between ubers and requests \n",
    "\n",
    "    # Compute weights\n",
    "    M = 1/dist \n",
    "    n = 1/np.sum(M, axis=1)\n",
    "    nr = np.repeat(n.reshape(-1,1), len(cand), axis=1)\n",
    "    w = M*nr # weigths \n",
    "    \n",
    "    # Select ubers using weights \n",
    "    har_pos = []\n",
    "    for i in range(len(req)):\n",
    "        rand_ = np.random.choice(len(cand), 1, p=w[i])[0]\n",
    "        while rand_ in har_pos:\n",
    "            rand_ = np.random.choice(len(cand), 1, p=w[i])[0]\n",
    "        har_pos.append(rand_)\n",
    "\n",
    "    # Compute distance between selected ubers and requests\n",
    "    dist = dv(cand[har_pos], req)\n",
    "    return dist, har_pos"
   ]
  },
  {
   "cell_type": "code",
   "execution_count": 73,
   "metadata": {},
   "outputs": [],
   "source": [
    "def base(uber, request, func):\n",
    "    T = 12001\n",
    "    cand = np.copy(uber) # Candidates\n",
    "    request = np.copy(request) # Requests\n",
    "    costs = np.zeros(T) # Array to save costs\n",
    "    serv = [] # Ubers in service\n",
    "    atte_cost = 0 # Cost to get request\n",
    "    serv_cost = 0 # Cost to complete the request\n",
    "    for t in range(T): # Time window\n",
    "        pos = np.where(request[:,4] == t)[0] # Get position of requests at time t\n",
    "        req_t = request[pos,:4] # Copy initial and final positinos of requests at time t\n",
    "        \n",
    "        # If there are requests and candidates \n",
    "        if len(req_t) > 0 and len(cand) > 0: \n",
    "            \n",
    "            \n",
    "            dist, pos = func(cand, req_t[:,:2])\n",
    "            \n",
    "            # Get position of ubers with min distance to requests\n",
    "            #min_pos = np.argmin(dist, axis=0)\n",
    "            \n",
    "            # Remove uber from candidates\n",
    "            cand = np.delete(cand, pos, axis=0) \n",
    "            \n",
    "            # Compute cost \n",
    "            atte_cost = dist.reshape(-1, 1)#np.diag(dist[min_pos]).reshape(-1, 1) # Go to request position\n",
    "            serv_cost = dv(req_t[:,:2], req_t[:,2:4]).reshape(-1, 1) # Go from initial to final position cost\n",
    "            \n",
    "            # Create array with [x_f, y_f, cost] for the uber in service\n",
    "            tmp = req_t[:,2:4] # The new position of uber at end of service\n",
    "            tmp = np.hstack((tmp, atte_cost + serv_cost))\n",
    " \n",
    "            # Add uber to service\n",
    "            if len(serv) == 0: # New serv array\n",
    "                serv = tmp\n",
    "            else: # Append if serv exists\n",
    "                serv = np.vstack((serv, tmp))\n",
    "        \n",
    "        # If there are ubers in service\n",
    "        if len(serv) > 0:\n",
    "            serv[:,-1] -= 1 # Remove 1 from cost (it simulates the car moving to end request destination)\n",
    "            pos_serv = np.where(serv[:,2] <= 0)[0] # Get array position of ubers in destination\n",
    "\n",
    "            if len(serv[pos_serv]) > 0: # If there are ubers that complete the service\n",
    "                cand = np.vstack((cand, serv[pos_serv, :2])) # Add to candidates array\n",
    "                serv = np.delete(serv, pos_serv, axis=0) # Remove from ubers in service\n",
    "\n",
    "        costs[t] = len(serv) + (np.sum(costs[t-1]) if t > 0 else 0)#np.sum(serv[:,-1]) if len(serv) > 0 else 0 # Compute cost\n",
    "\n",
    "    return costs"
   ]
  },
  {
   "cell_type": "code",
   "execution_count": 74,
   "metadata": {},
   "outputs": [],
   "source": [
    "def greedy(uber, request):\n",
    "    return base(uber, request, greedyFunc)"
   ]
  },
  {
   "cell_type": "code",
   "execution_count": 83,
   "metadata": {},
   "outputs": [],
   "source": [
    "def random(uber, request):\n",
    "    return base(uber, request, randomFunc)"
   ]
  },
  {
   "cell_type": "code",
   "execution_count": 87,
   "metadata": {},
   "outputs": [],
   "source": [
    "def harmonic(uber, request):\n",
    "    return base(uber, request, harmonicFunc)"
   ]
  },
  {
   "cell_type": "code",
   "execution_count": 49,
   "metadata": {},
   "outputs": [],
   "source": [
    "def greedy(uber, request):\n",
    "    T = 12001\n",
    "    cand = np.copy(uber) # Candidates\n",
    "    request = np.copy(request) # Requests\n",
    "    costs = np.zeros(T) # Array to save costs\n",
    "    serv = [] # Ubers in service\n",
    "    atte_cost = 0 # Cost to get request\n",
    "    serv_cost = 0 # Cost to complete the request\n",
    "    for t in range(T): # Time window\n",
    "        pos = np.where(request[:,4] == t)[0] # Get position of requests at time t\n",
    "        req_t = request[pos,:4] # Copy initial and final positinos of requests at time t\n",
    "        \n",
    "        # If there are requests and candidates \n",
    "        if len(req_t) > 0 and len(cand) > 0: \n",
    "            # Distance matrix between ubers and requests (table 1)\n",
    "            dist = dM(cand, req_t[:,:2])\n",
    "            \n",
    "            # Get position of ubers with min distance to requests\n",
    "            min_pos = np.argmin(dist, axis=0)\n",
    "            \n",
    "            # Remove uber from candidates\n",
    "            cand = np.delete(cand, min_pos, axis=0) \n",
    "            \n",
    "            # Compute cost \n",
    "            atte_cost = np.diag(dist[min_pos]).reshape(-1, 1) # Go to request position\n",
    "            serv_cost = dv(req_t[:,:2], req_t[:,2:4]).reshape(-1, 1) # Go from initial to final position cost\n",
    "            \n",
    "            # Create array with [x_f, y_f, cost] for the uber in service\n",
    "            tmp = req_t[:,2:4] # The new position of uber at end of service\n",
    "            tmp = np.hstack((tmp, atte_cost + serv_cost))\n",
    " \n",
    "            # Add uber to service\n",
    "            if len(serv) == 0: # New serv array\n",
    "                serv = tmp\n",
    "            else: # Append if serv exists\n",
    "                serv = np.vstack((serv, tmp))\n",
    "        \n",
    "        # If there are ubers in service\n",
    "        if len(serv) > 0:\n",
    "            serv[:,-1] -= 1 # Remove 1 from cost (it simulates the car moving to end request destination)\n",
    "            pos_serv = np.where(serv[:,2] <= 0)[0] # Get array position of ubers in destination\n",
    "\n",
    "            if len(serv[pos_serv]) > 0: # If there are ubers that complete the service\n",
    "                cand = np.vstack((cand, serv[pos_serv, :2])) # Add to candidates array\n",
    "                serv = np.delete(serv, pos_serv, axis=0) # Remove from ubers in service\n",
    "\n",
    "        costs[t] = len(serv) + (np.sum(costs[t-1]) if t > 0 else 0)#np.sum(serv[:,-1]) if len(serv) > 0 else 0 # Compute cost\n",
    "\n",
    "    return costs"
   ]
  },
  {
   "cell_type": "code",
   "execution_count": 50,
   "metadata": {},
   "outputs": [],
   "source": [
    "def random(uber, request):\n",
    "    T = 12001\n",
    "    cand = np.copy(uber) # Candidates\n",
    "    request = np.copy(request) # Requests\n",
    "    costs = np.zeros(T) # Array to save costs\n",
    "    serv = [] # Ubers in service\n",
    "    atte_cost = 0 # Cost to get request\n",
    "    serv_cost = 0 # Cost to complete the request\n",
    "    for t in range(T): # Time window\n",
    "        pos = np.where(request[:,4] == t)[0] # Get position of requests at time t\n",
    "        req_t = request[pos,:4] # Copy initial and final positinos of requests at time t\n",
    "        \n",
    "        # If there are requests and candidates \n",
    "        if len(req_t) > 0 and len(cand) > 0: \n",
    "            # Distance matrix between ubers and requests (table 1)\n",
    "            #dist = dM(cand, req_t[:,:2])\n",
    "            \n",
    "            # Get random ubers for requests\n",
    "            if len(req_t) > len(cand): # If there are more requests than candidates\n",
    "                rand_pos = np.random.choice(len(cand), len(cand), replace=False)\n",
    "            else:\n",
    "                rand_pos = np.random.choice(len(cand), len(req_t), replace=False)\n",
    "            \n",
    "            # Compute distance between selected ubers and requests\n",
    "            dist = dv(cand[rand_pos], req_t[:,:2])\n",
    "            \n",
    "            # Remove uber from candidates\n",
    "            cand = np.delete(cand, rand_pos, axis=0) \n",
    "            \n",
    "            # Compute cost \n",
    "            atte_cost = dist.reshape(-1, 1)#dist[min_pos].reshape(-1, 1) # Go to request position\n",
    "            serv_cost = dv(req_t[:,:2], req_t[:,2:4]).reshape(-1, 1) # Go from initial to final position cost\n",
    "            \n",
    "            # Create array with [x_f, y_f, cost] for the uber in service\n",
    "            tmp = req_t[:,2:4] # The new position of uber at end of service\n",
    "            tmp = np.hstack((tmp, atte_cost + serv_cost))\n",
    " \n",
    "            # Add uber to service\n",
    "            if len(serv) == 0: # New serv array\n",
    "                serv = tmp\n",
    "            else: # Append if serv exists\n",
    "                serv = np.vstack((serv, tmp))\n",
    "        \n",
    "        # If there are ubers in service\n",
    "        if len(serv) > 0:\n",
    "            serv[:,-1] -= 1 # Remove 1 from cost (it simulates the car moving to end request destination)\n",
    "            pos_serv = np.where(serv[:,2] <= 0)[0] # Get array position of ubers in destination\n",
    "\n",
    "            if len(serv[pos_serv]) > 0: # If there are ubers that complete the service\n",
    "                cand = np.vstack((cand, serv[pos_serv, :2])) # Add to candidates array\n",
    "                serv = np.delete(serv, pos_serv, axis=0) # Remove from ubers in service\n",
    "        \n",
    "        costs[t] = len(serv) + (np.sum(costs[t-1]) if t > 0 else 0) #np.sum(serv[:,-1]) if len(serv) > 0 else 0 # Compute cost\n",
    "\n",
    "    return costs"
   ]
  },
  {
   "cell_type": "code",
   "execution_count": 51,
   "metadata": {},
   "outputs": [],
   "source": [
    "def harmonic(uber, request):\n",
    "    T = 12001\n",
    "    cand = np.copy(uber) # Candidates\n",
    "    request = np.copy(request) # Requests\n",
    "    costs = np.zeros(T) # Array to save costs\n",
    "    serv = [] # Ubers in service\n",
    "    atte_cost = 0 # Cost to get request\n",
    "    serv_cost = 0 # Cost to complete the request\n",
    "    for t in range(T): # Time window\n",
    "        pos = np.where(request[:,4] == t)[0] # Get position of requests at time t\n",
    "        req_t = request[pos,:4] # Copy initial and final positinos of requests at time t\n",
    "        \n",
    "        # If there are requests and candidates \n",
    "        if len(req_t) > 0 and len(cand) > 0: \n",
    "            # Distance matrix between ubers and requests (table 1)\n",
    "            dist = dM(req_t[:,:2], cand)\n",
    "            \n",
    "            M = 1/dist#dM(req[:,:2], cand)\n",
    "            n = 1/np.sum(M, axis=1)\n",
    "            nr = np.repeat(n.reshape(-1,1), len(cand), axis=1)\n",
    "            w = M*nr # weigths\n",
    "            \n",
    "            har_pos = []\n",
    "            # Select ubers using weights \n",
    "            for i in range(len(req_t)):\n",
    "                rand_ = np.random.choice(len(cand), 1, p=w[i])[0]\n",
    "                while rand_ in har_pos:\n",
    "                    rand_ = np.random.choice(len(cand), 1, p=w[i])[0]\n",
    "                har_pos.append(rand_)\n",
    "                    \n",
    "            # Compute distance between selected ubers and requests\n",
    "            dist = dv(cand[har_pos], req_t[:,:2])\n",
    "            \n",
    "            # Remove uber from candidates\n",
    "            cand = np.delete(cand, har_pos, axis=0) \n",
    "            \n",
    "            # Compute cost \n",
    "            atte_cost = dist.reshape(-1, 1) # Go to request position\n",
    "            serv_cost = dv(req_t[:,:2], req_t[:,2:4]).reshape(-1, 1) # Go from initial to final position cost\n",
    "            \n",
    "            # Create array with [x_f, y_f, cost] for the uber in service\n",
    "            tmp = req_t[:,2:4] # The new position of uber at end of service\n",
    "            tmp = np.hstack((tmp, atte_cost + serv_cost))\n",
    " \n",
    "            # Add uber to service\n",
    "            if len(serv) == 0: # New serv array\n",
    "                serv = tmp\n",
    "            else: # Append if serv exists\n",
    "                serv = np.vstack((serv, tmp))\n",
    "        \n",
    "        # If there are ubers in service\n",
    "        if len(serv) > 0:\n",
    "            serv[:,-1] -= 1 # Remove 1 from cost (it simulates the car moving to end request destination)\n",
    "            pos_serv = np.where(serv[:,2] <= 0)[0] # Get array position of ubers in destination\n",
    "\n",
    "            if len(serv[pos_serv]) > 0: # If there are ubers that complete the service\n",
    "                cand = np.vstack((cand, serv[pos_serv, :2])) # Add to candidates array\n",
    "                serv = np.delete(serv, pos_serv, axis=0) # Remove from ubers in service\n",
    "        \n",
    "        costs[t] = len(serv) + (np.sum(costs[t-1]) if t > 0 else 0) #np.sum(serv[:,-1]) if len(serv) > 0 else 0 # Compute cost\n",
    "\n",
    "    return costs"
   ]
  },
  {
   "cell_type": "markdown",
   "metadata": {},
   "source": [
    "## Ubers positions at $t=0$"
   ]
  },
  {
   "cell_type": "code",
   "execution_count": 12,
   "metadata": {},
   "outputs": [
    {
     "data": {
      "image/png": "[encoded data removed]",
      "text/plain": [
       "<Figure size 1152x360 with 3 Axes>"
      ]
     },
     "metadata": {
      "needs_background": "light"
     },
     "output_type": "display_data"
    }
   ],
   "source": [
    "plotPositions(manana, tarde, noche)"
   ]
  },
  {
   "cell_type": "code",
   "execution_count": 76,
   "metadata": {
    "scrolled": false
   },
   "outputs": [],
   "source": [
    "costs_greedy = greedy(manana, req_1)"
   ]
  },
  {
   "cell_type": "code",
   "execution_count": 84,
   "metadata": {},
   "outputs": [],
   "source": [
    "costs_random = random(manana, req_1)"
   ]
  },
  {
   "cell_type": "code",
   "execution_count": 88,
   "metadata": {},
   "outputs": [],
   "source": [
    "costs_harmonic = harmonic(manana, req_1)"
   ]
  },
  {
   "cell_type": "code",
   "execution_count": 77,
   "metadata": {},
   "outputs": [
    {
     "data": {
      "text/plain": [
       "array([ 0.,  0.,  0.,  0.,  0.,  0.,  0.,  0.,  0.,  1.,  2.,  3.,  4.,\n",
       "        5.,  7.,  9., 11., 13., 15., 17.])"
      ]
     },
     "execution_count": 77,
     "metadata": {},
     "output_type": "execute_result"
    }
   ],
   "source": [
    "costs_greedy[:20]"
   ]
  },
  {
   "cell_type": "code",
   "execution_count": 55,
   "metadata": {},
   "outputs": [
    {
     "data": {
      "text/plain": [
       "array([ 0.,  0.,  0.,  0.,  0.,  0.,  0.,  0.,  0.,  1.,  2.,  3.,  4.,\n",
       "        5.,  7.,  9., 11., 13., 15., 17.])"
      ]
     },
     "execution_count": 55,
     "metadata": {},
     "output_type": "execute_result"
    }
   ],
   "source": [
    "costs_greedy[:20]"
   ]
  },
  {
   "cell_type": "code",
   "execution_count": 85,
   "metadata": {},
   "outputs": [
    {
     "data": {
      "image/png": "[encoded data removed]",
      "text/plain": [
       "<Figure size 720x576 with 1 Axes>"
      ]
     },
     "metadata": {
      "needs_background": "light"
     },
     "output_type": "display_data"
    }
   ],
   "source": [
    "plotCosts(costs_greedy, costs_random, costs_harmonic)"
   ]
  },
  {
   "cell_type": "code",
   "execution_count": 180,
   "metadata": {},
   "outputs": [
    {
     "data": {
      "text/plain": [
       "[<matplotlib.lines.Line2D at 0x817ccd908>]"
      ]
     },
     "execution_count": 180,
     "metadata": {},
     "output_type": "execute_result"
    },
    {
     "data": {
      "image/png": "[encoded data removed]",
      "text/plain": [
       "<Figure size 432x288 with 1 Axes>"
      ]
     },
     "metadata": {
      "needs_background": "light"
     },
     "output_type": "display_data"
    }
   ],
   "source": [
    "plt.plot(np.cumsum(costs_greedy))"
   ]
  },
  {
   "cell_type": "code",
   "execution_count": null,
   "metadata": {},
   "outputs": [],
   "source": []
  }
 ],
 "metadata": {
  "kernelspec": {
   "display_name": "Python 3",
   "language": "python",
   "name": "python3"
  },
  "language_info": {
   "codemirror_mode": {
    "name": "ipython",
    "version": 3
   },
   "file_extension": ".py",
   "mimetype": "text/x-python",
   "name": "python",
   "nbconvert_exporter": "python",
   "pygments_lexer": "ipython3",
   "version": "3.7.2"
  }
 },
 "nbformat": 4,
 "nbformat_minor": 2
}
