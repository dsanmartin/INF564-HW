{
 "cells": [
  {
   "cell_type": "code",
   "execution_count": 1,
   "metadata": {},
   "outputs": [],
   "source": [
    "import numpy as np\n",
    "import matplotlib.pyplot as plt\n",
    "import scipy.spatial.distance as sp_dist"
   ]
  },
  {
   "cell_type": "code",
   "execution_count": 2,
   "metadata": {},
   "outputs": [],
   "source": [
    "DIR = \"data/\""
   ]
  },
  {
   "cell_type": "code",
   "execution_count": 3,
   "metadata": {},
   "outputs": [],
   "source": [
    "# Manhattan distance\n",
    "d  = lambda p1, p2: np.linalg.norm(p1 - p2, ord=1) # Compare two points\n",
    "dv = lambda v1, v2: np.sum(np.abs(v1-v2), axis=1) #  Elementwise distance\n",
    "dM = lambda v1, v2: sp_dist.cdist(v1, v2, metric='cityblock') # Distance matrix "
   ]
  },
  {
   "cell_type": "code",
   "execution_count": 4,
   "metadata": {},
   "outputs": [],
   "source": [
    "def loadRequest(request):\n",
    "    data = []\n",
    "    file = open(request)\n",
    "    for line in file:\n",
    "        data.append(list(map(int, line.strip().replace(\"-\", \" \").split())))\n",
    "    file.close()\n",
    "    return np.array(data)"
   ]
  },
  {
   "cell_type": "code",
   "execution_count": 5,
   "metadata": {},
   "outputs": [],
   "source": [
    "def plotPositions(manana, tarde, noche):\n",
    "    fig, (ax1, ax2, ax3) = plt.subplots(ncols=3, sharey=True, figsize=(16, 5))\n",
    "    ax1.scatter(manana[:,0], manana[:,1], c='y')\n",
    "    ax2.scatter(tarde[:,0], tarde[:,1], c='r')\n",
    "    ax3.scatter(noche[:,0], noche[:,1], c='k')\n",
    "    ax1.set_title(\"Mañana\")\n",
    "    ax2.set_title(\"Tarde\")\n",
    "    ax3.set_title(\"Noche\")\n",
    "    plt.show()"
   ]
  },
  {
   "cell_type": "code",
   "execution_count": 6,
   "metadata": {},
   "outputs": [],
   "source": [
    "# Load positions\n",
    "manana = np.loadtxt(DIR + 'manana.dat', dtype=int)\n",
    "tarde = np.loadtxt(DIR + 'tarde.dat', dtype=int)\n",
    "noche = np.loadtxt(DIR + 'noche.dat', dtype=int)"
   ]
  },
  {
   "cell_type": "code",
   "execution_count": 7,
   "metadata": {},
   "outputs": [],
   "source": [
    "# Load requests\n",
    "req_1 = loadRequest(DIR + 'requests_1.dat')\n",
    "req_2 = loadRequest(DIR + 'requests_2.dat')\n",
    "req_3 = loadRequest(DIR + 'requests_3.dat')"
   ]
  },
  {
   "cell_type": "code",
   "execution_count": 15,
   "metadata": {},
   "outputs": [],
   "source": [
    "def greedy(uber, request):\n",
    "    T = 12001\n",
    "    cand = np.copy(uber)\n",
    "    request = np.copy(request)\n",
    "    costs = np.zeros(T)\n",
    "    serv = []\n",
    "    atte_cost = 0\n",
    "    serv_cost = 0\n",
    "    for t in range(T):\n",
    "        pos = np.where(request[:,4] == t)[0]\n",
    "        req = request[:,:4]\n",
    "        req_t = req[pos]\n",
    "        if t % 3000 == 0: \n",
    "            print(\"t:\", t)\n",
    "            print(\"Candidates:\", cand.shape)\n",
    "            print(\"Requests:\", req_t.shape)\n",
    "            if t > 0: print(\"Service:\", serv.shape)\n",
    "        #print(cand.shape)\n",
    "        if len(req_t) > 0 and len(cand) > 0:\n",
    "            # Distance matrix between ubers and requests\n",
    "            dist = dM(cand, req_t[:,:2])\n",
    "            # Get position of ubers with min distance\n",
    "            min_pos = np.argmin(dist, axis=0)\n",
    "            ub_pos = cand[min_pos]\n",
    "            # Remove uber from candidates\n",
    "            cand = np.delete(cand, min_pos, axis=0) \n",
    "            \n",
    "            #serv.append([])\n",
    "            #print(cand)\n",
    "            \n",
    "            #costs[t] = np.sum(dist[min_pos]) + sum([d(req_t[j,:2], req_t[j,2:4]) for j in range(len(req_t))])\n",
    "            #print(min_pos)\n",
    "            #print(dist)\n",
    "            atte_cost = np.diag(dist[min_pos]).reshape(-1, 1)\n",
    "            serv_cost = dv(req_t[:,:2], req_t[:,2:4]).reshape(-1, 1)\n",
    "            \n",
    "            #print(\"atte cost\", atte_cost, atte_cost.shape)\n",
    "            #print(\"serv cost\", serv_cost, serv_cost.shape)\n",
    "            \n",
    "            tmp = req_t[:,2:4] # The new position of uber at end of service\n",
    "            #print(\"ts\", tmp.shape)\n",
    "            #print(atte_cost + serv_cost)\n",
    "            tmp = np.hstack((tmp, atte_cost + serv_cost)) # Cost to compute when uber is candidate again\n",
    "            #print(\"tmp\", tmp)\n",
    "            # Add uber to service\n",
    "            if len(serv) == 0:\n",
    "                serv = tmp\n",
    "            else:\n",
    "                #print(\"serv\", serv.shape)\n",
    "                #print(\"tmp\", tmp.shape)\n",
    "                serv = np.vstack((serv, tmp))\n",
    "                #print(\"serv\", serv)\n",
    "                #print(\"tmp\", tmp)\n",
    "                \n",
    "        #costs[t] = np.sum(atte_cost) + np.sum(serv_cost) #if t > 0 else costs[t-1] + np.sum(atte_cost) + np.sum(serv_cost)\n",
    "            \n",
    "        if len(serv) > 0:\n",
    "            #print(t)\n",
    "            #print(serv)\n",
    "            serv[:,-1] -= 1\n",
    "            #print(serv.shape)\n",
    "            pos_serv = np.where(serv[:,2] <= 0)[0]\n",
    "            #print(\"ps\", pos_serv, len(pos_serv))\n",
    "            #print(\"sp\", serv[pos_serv])\n",
    "            if len(serv[pos_serv]) > 0:#len(serv[pos_serv][0]) > 0:\n",
    "                #print(t)\n",
    "                #print(\"shape\", cand.shape)\n",
    "                #print(serv[pos_serv, :2], serv[pos_serv, :2].shape)\n",
    "                #print(\"ps\", pos_serv)\n",
    "                \n",
    "                #print(\"ps\", pos_serv.shape)\n",
    "                #print(\"ss\", serv[pos_serv, :2].shape)\n",
    "                #rint(\"sc\", cand.shape)\n",
    "                cand = np.vstack((cand, serv[pos_serv, :2]))\n",
    "                serv = np.delete(serv, pos_serv, axis=0) \n",
    "                #print(cand.shape)\n",
    "        #if t > 0: costs[t] += costs[t-1]; print(costs[t], costs[t-1])\n",
    "            #print(min_pos)\n",
    "            #print(req_t)\n",
    "        \n",
    "        costs[t] = np.sum(serv[:,-1]) if len(serv) > 0 else 0\n",
    "    #costs2 = np.copy(costs)\n",
    "    #costs[1:] += costs[:-1]\n",
    "    return costs#np.cumsum(costs)#costs, costs"
   ]
  },
  {
   "cell_type": "code",
   "execution_count": 16,
   "metadata": {
    "scrolled": false
   },
   "outputs": [
    {
     "name": "stdout",
     "output_type": "stream",
     "text": [
      "t: 0\n",
      "Candidates: (200, 2)\n",
      "Requests: (0, 4)\n",
      "t: 3000\n",
      "Candidates: (158, 2)\n",
      "Requests: (1, 4)\n",
      "Service: (42, 3)\n",
      "t: 6000\n",
      "Candidates: (170, 2)\n",
      "Requests: (0, 4)\n",
      "Service: (30, 3)\n",
      "t: 9000\n",
      "Candidates: (168, 2)\n",
      "Requests: (0, 4)\n",
      "Service: (32, 3)\n",
      "t: 12000\n",
      "Candidates: (200, 2)\n",
      "Requests: (0, 4)\n",
      "Service: (0, 3)\n"
     ]
    }
   ],
   "source": [
    "costs = greedy(tarde, req_1)"
   ]
  },
  {
   "cell_type": "code",
   "execution_count": 18,
   "metadata": {},
   "outputs": [
    {
     "data": {
      "image/png": "[encoded data removed]",
      "text/plain": [
       "<Figure size 432x288 with 1 Axes>"
      ]
     },
     "metadata": {
      "needs_background": "light"
     },
     "output_type": "display_data"
    }
   ],
   "source": [
    "plt.plot(np.arange(len(costs)), costs)\n",
    "plt.grid(True)\n",
    "plt.show()"
   ]
  },
  {
   "cell_type": "code",
   "execution_count": 385,
   "metadata": {},
   "outputs": [
    {
     "data": {
      "image/png": "[encoded data removed]",
      "text/plain": [
       "<Figure size 432x288 with 1 Axes>"
      ]
     },
     "metadata": {
      "needs_background": "light"
     },
     "output_type": "display_data"
    }
   ],
   "source": [
    "aa = np.copy(costs)\n",
    "\n",
    "for i in range(1, len(aa)):\n",
    "    aa[i] += aa[i-1] \n",
    "#print(len(aa[1:-1]))\n",
    "#aa[1:] = costs[1:] + costs[:-1]\n",
    "plt.plot(np.arange(len(costs)), aa)\n",
    "plt.grid(True)\n",
    "plt.show()"
   ]
  },
  {
   "cell_type": "code",
   "execution_count": 357,
   "metadata": {},
   "outputs": [
    {
     "data": {
      "text/plain": [
       "array([  0.,   0.,   0.,   0.,   0.,   0.,   0.,   0.,   0., 466., 932.,\n",
       "       932., 932.])"
      ]
     },
     "execution_count": 357,
     "metadata": {},
     "output_type": "execute_result"
    }
   ],
   "source": [
    "aa[:13]"
   ]
  },
  {
   "cell_type": "code",
   "execution_count": 275,
   "metadata": {},
   "outputs": [
    {
     "data": {
      "text/plain": [
       "80000000.0"
      ]
     },
     "execution_count": 275,
     "metadata": {},
     "output_type": "execute_result"
    }
   ],
   "source": [
    "8e7"
   ]
  },
  {
   "cell_type": "code",
   "execution_count": 50,
   "metadata": {},
   "outputs": [],
   "source": [
    "greedy(manana, req_1)"
   ]
  },
  {
   "cell_type": "code",
   "execution_count": 53,
   "metadata": {},
   "outputs": [
    {
     "data": {
      "image/png": "[encoded data removed]",
      "text/plain": [
       "<Figure size 1152x360 with 3 Axes>"
      ]
     },
     "metadata": {
      "needs_background": "light"
     },
     "output_type": "display_data"
    }
   ],
   "source": [
    "plotPositions(manana, tarde, noche)"
   ]
  },
  {
   "cell_type": "code",
   "execution_count": 54,
   "metadata": {},
   "outputs": [
    {
     "data": {
      "text/plain": [
       "244.0"
      ]
     },
     "execution_count": 54,
     "metadata": {},
     "output_type": "execute_result"
    }
   ],
   "source": [
    "d(manana[0], manana[1])"
   ]
  },
  {
   "cell_type": "code",
   "execution_count": 25,
   "metadata": {},
   "outputs": [
    {
     "ename": "TypeError",
     "evalue": "'shape' is an invalid keyword argument for array()",
     "output_type": "error",
     "traceback": [
      "\u001b[0;31m---------------------------------------------------------------------------\u001b[0m",
      "\u001b[0;31mTypeError\u001b[0m                                 Traceback (most recent call last)",
      "\u001b[0;32m<ipython-input-25-25ead7647aa9>\u001b[0m in \u001b[0;36m<module>\u001b[0;34m\u001b[0m\n\u001b[0;32m----> 1\u001b[0;31m \u001b[0ma\u001b[0m \u001b[0;34m=\u001b[0m \u001b[0mnp\u001b[0m\u001b[0;34m.\u001b[0m\u001b[0marray\u001b[0m\u001b[0;34m(\u001b[0m\u001b[0;34m[\u001b[0m\u001b[0;34m]\u001b[0m\u001b[0;34m,\u001b[0m \u001b[0mshape\u001b[0m\u001b[0;34m=\u001b[0m\u001b[0;34m(\u001b[0m\u001b[0;36m1\u001b[0m\u001b[0;34m,\u001b[0m \u001b[0;36m3\u001b[0m\u001b[0;34m)\u001b[0m\u001b[0;34m)\u001b[0m\u001b[0;34m\u001b[0m\u001b[0;34m\u001b[0m\u001b[0m\n\u001b[0m",
      "\u001b[0;31mTypeError\u001b[0m: 'shape' is an invalid keyword argument for array()"
     ]
    }
   ],
   "source": [
    "a = np.array([], shape=(1, 3))"
   ]
  },
  {
   "cell_type": "code",
   "execution_count": 26,
   "metadata": {},
   "outputs": [
    {
     "data": {
      "text/plain": [
       "array([1., 2., 3.])"
      ]
     },
     "execution_count": 26,
     "metadata": {},
     "output_type": "execute_result"
    }
   ],
   "source": [
    "a"
   ]
  },
  {
   "cell_type": "code",
   "execution_count": 20,
   "metadata": {},
   "outputs": [],
   "source": [
    "a = np.append(a, [1, 2, 3])"
   ]
  },
  {
   "cell_type": "code",
   "execution_count": 21,
   "metadata": {},
   "outputs": [
    {
     "data": {
      "text/plain": [
       "array([1., 2., 3.])"
      ]
     },
     "execution_count": 21,
     "metadata": {},
     "output_type": "execute_result"
    }
   ],
   "source": [
    "a"
   ]
  },
  {
   "cell_type": "code",
   "execution_count": 22,
   "metadata": {},
   "outputs": [
    {
     "data": {
      "text/plain": [
       "array([1., 2., 3., 4., 5., 6.])"
      ]
     },
     "execution_count": 22,
     "metadata": {},
     "output_type": "execute_result"
    }
   ],
   "source": [
    "np.append(a, [4, 5, 6])"
   ]
  },
  {
   "cell_type": "code",
   "execution_count": null,
   "metadata": {},
   "outputs": [],
   "source": []
  }
 ],
 "metadata": {
  "kernelspec": {
   "display_name": "Python 3",
   "language": "python",
   "name": "python3"
  },
  "language_info": {
   "codemirror_mode": {
    "name": "ipython",
    "version": 3
   },
   "file_extension": ".py",
   "mimetype": "text/x-python",
   "name": "python",
   "nbconvert_exporter": "python",
   "pygments_lexer": "ipython3",
   "version": "3.7.2"
  }
 },
 "nbformat": 4,
 "nbformat_minor": 2
}
